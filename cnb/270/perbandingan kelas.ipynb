{
 "cells": [
  {
   "cell_type": "code",
   "execution_count": 6,
   "metadata": {},
   "outputs": [],
   "source": [
    "# Import library yang diperlukan\n",
    "import pandas as pd"
   ]
  },
  {
   "cell_type": "code",
   "execution_count": 7,
   "metadata": {},
   "outputs": [
    {
     "data": {
      "text/html": [
       "<div>\n",
       "<style scoped>\n",
       "    .dataframe tbody tr th:only-of-type {\n",
       "        vertical-align: middle;\n",
       "    }\n",
       "\n",
       "    .dataframe tbody tr th {\n",
       "        vertical-align: top;\n",
       "    }\n",
       "\n",
       "    .dataframe thead th {\n",
       "        text-align: right;\n",
       "    }\n",
       "</style>\n",
       "<table border=\"1\" class=\"dataframe\">\n",
       "  <thead>\n",
       "    <tr style=\"text-align: right;\">\n",
       "      <th></th>\n",
       "      <th>kelas_skns</th>\n",
       "      <th>kelas_sks</th>\n",
       "      <th>kelas_sns</th>\n",
       "      <th>kelas_ss</th>\n",
       "    </tr>\n",
       "  </thead>\n",
       "  <tbody>\n",
       "    <tr>\n",
       "      <th>0</th>\n",
       "      <td>positif</td>\n",
       "      <td>positif</td>\n",
       "      <td>positif</td>\n",
       "      <td>positif</td>\n",
       "    </tr>\n",
       "    <tr>\n",
       "      <th>1</th>\n",
       "      <td>positif</td>\n",
       "      <td>positif</td>\n",
       "      <td>positif</td>\n",
       "      <td>positif</td>\n",
       "    </tr>\n",
       "    <tr>\n",
       "      <th>2</th>\n",
       "      <td>negatif</td>\n",
       "      <td>negatif</td>\n",
       "      <td>negatif</td>\n",
       "      <td>negatif</td>\n",
       "    </tr>\n",
       "    <tr>\n",
       "      <th>3</th>\n",
       "      <td>negatif</td>\n",
       "      <td>negatif</td>\n",
       "      <td>negatif</td>\n",
       "      <td>negatif</td>\n",
       "    </tr>\n",
       "    <tr>\n",
       "      <th>4</th>\n",
       "      <td>positif</td>\n",
       "      <td>negatif</td>\n",
       "      <td>positif</td>\n",
       "      <td>negatif</td>\n",
       "    </tr>\n",
       "  </tbody>\n",
       "</table>\n",
       "</div>"
      ],
      "text/plain": [
       "  kelas_skns kelas_sks kelas_sns kelas_ss\n",
       "0    positif   positif   positif  positif\n",
       "1    positif   positif   positif  positif\n",
       "2    negatif   negatif   negatif  negatif\n",
       "3    negatif   negatif   negatif  negatif\n",
       "4    positif   negatif   positif  negatif"
      ]
     },
     "execution_count": 7,
     "metadata": {},
     "output_type": "execute_result"
    }
   ],
   "source": [
    "# Load data ke dalam data frame dan spesifikasi encoding diperlukan karena data tidak menggunakan UTF-8\n",
    "df = pd.read_csv('perbandingan_kelas_sentistrength.csv', encoding='latin-1') \n",
    "\n",
    "df.head()"
   ]
  },
  {
   "cell_type": "code",
   "execution_count": 8,
   "metadata": {},
   "outputs": [
    {
     "name": "stdout",
     "output_type": "stream",
     "text": [
      "positif    142\n",
      "netral      58\n",
      "negatif     47\n",
      "Name: kelas_skns, dtype: int64\n",
      "\n",
      "\n",
      "positif    141\n",
      "netral      61\n",
      "negatif     45\n",
      "Name: kelas_sks, dtype: int64\n",
      "\n",
      "\n",
      "positif    143\n",
      "netral      57\n",
      "negatif     47\n",
      "Name: kelas_sns, dtype: int64\n",
      "\n",
      "\n",
      "positif    142\n",
      "netral      60\n",
      "negatif     45\n",
      "Name: kelas_ss, dtype: int64\n"
     ]
    }
   ],
   "source": [
    "# Cek jumlah data per kelas\n",
    "print(df['kelas_skns'].value_counts())\n",
    "print('\\n')\n",
    "print(df['kelas_sks'].value_counts())\n",
    "print('\\n')\n",
    "print(df['kelas_sns'].value_counts())\n",
    "print('\\n')\n",
    "print(df['kelas_ss'].value_counts())"
   ]
  },
  {
   "cell_type": "code",
   "execution_count": 10,
   "metadata": {},
   "outputs": [
    {
     "data": {
      "text/html": [
       "<div>\n",
       "<style scoped>\n",
       "    .dataframe tbody tr th:only-of-type {\n",
       "        vertical-align: middle;\n",
       "    }\n",
       "\n",
       "    .dataframe tbody tr th {\n",
       "        vertical-align: top;\n",
       "    }\n",
       "\n",
       "    .dataframe thead th {\n",
       "        text-align: right;\n",
       "    }\n",
       "</style>\n",
       "<table border=\"1\" class=\"dataframe\">\n",
       "  <thead>\n",
       "    <tr style=\"text-align: right;\">\n",
       "      <th></th>\n",
       "      <th>kelas_skns</th>\n",
       "      <th>kelas_sks</th>\n",
       "      <th>kelas_sns</th>\n",
       "      <th>kelas_ss</th>\n",
       "    </tr>\n",
       "  </thead>\n",
       "  <tbody>\n",
       "    <tr>\n",
       "      <th>0</th>\n",
       "      <td>2</td>\n",
       "      <td>2</td>\n",
       "      <td>2</td>\n",
       "      <td>2</td>\n",
       "    </tr>\n",
       "    <tr>\n",
       "      <th>1</th>\n",
       "      <td>2</td>\n",
       "      <td>2</td>\n",
       "      <td>2</td>\n",
       "      <td>2</td>\n",
       "    </tr>\n",
       "    <tr>\n",
       "      <th>2</th>\n",
       "      <td>0</td>\n",
       "      <td>0</td>\n",
       "      <td>0</td>\n",
       "      <td>0</td>\n",
       "    </tr>\n",
       "    <tr>\n",
       "      <th>3</th>\n",
       "      <td>0</td>\n",
       "      <td>0</td>\n",
       "      <td>0</td>\n",
       "      <td>0</td>\n",
       "    </tr>\n",
       "    <tr>\n",
       "      <th>4</th>\n",
       "      <td>2</td>\n",
       "      <td>0</td>\n",
       "      <td>2</td>\n",
       "      <td>0</td>\n",
       "    </tr>\n",
       "  </tbody>\n",
       "</table>\n",
       "</div>"
      ],
      "text/plain": [
       "   kelas_skns  kelas_sks  kelas_sns  kelas_ss\n",
       "0           2          2          2         2\n",
       "1           2          2          2         2\n",
       "2           0          0          0         0\n",
       "3           0          0          0         0\n",
       "4           2          0          2         0"
      ]
     },
     "execution_count": 10,
     "metadata": {},
     "output_type": "execute_result"
    }
   ],
   "source": [
    "# Data untuk label\n",
    "new_labels = {\n",
    "    'negatif' : 0,\n",
    "    'netral' : 1,\n",
    "    'positif' : 2\n",
    "}\n",
    "\n",
    "# Encode label\n",
    "df['kelas_skns'] = df['kelas_skns'].map(new_labels)\n",
    "df['kelas_sks'] = df['kelas_sks'].map(new_labels)\n",
    "df['kelas_sns'] = df['kelas_sns'].map(new_labels)\n",
    "df['kelas_ss'] = df['kelas_ss'].map(new_labels)\n",
    "\n",
    "# Cek data teratas\n",
    "df.head()"
   ]
  },
  {
   "cell_type": "code",
   "execution_count": 33,
   "metadata": {},
   "outputs": [
    {
     "data": {
      "image/png": "[encoded data removed]",
      "text/plain": [
       "<Figure size 1008x576 with 1 Axes>"
      ]
     },
     "metadata": {
      "needs_background": "light"
     },
     "output_type": "display_data"
    }
   ],
   "source": [
    "import seaborn as sns\n",
    "import matplotlib.pyplot as plt\n",
    "\n",
    "# Mengganti nama kolom\n",
    "df.rename(columns={\n",
    "    'kelas_skns': 'Stopword Pengecualian Negasi - Tanpa Stemming',\n",
    "    'kelas_sks': 'Stopword Pengecualian Negasi - Stemming',\n",
    "    'kelas_sns': 'Stopword Lengkap - Tanpa Stemming',\n",
    "    'kelas_ss': 'Stopword Lengkap - Stemming'\n",
    "}, inplace=True)\n",
    "\n",
    "# Mengubah data menjadi format panjang (long format)\n",
    "df_melted = df.melt(var_name='Kelas', value_name='Sentimen')\n",
    "\n",
    "# Warna untuk setiap kategori sentimen\n",
    "palette = {0: 'red', 1: 'lightskyblue', 2: 'green'}\n",
    "\n",
    "# Visualisasi sentimen dalam satu plot\n",
    "plt.figure(figsize=(14, 8))\n",
    "sns.countplot(data=df_melted, x='Kelas', hue='Sentimen', palette=palette)\n",
    "plt.title('Pelabelan Menggunakan SentiStrength_ID', fontsize=20)\n",
    "plt.xlabel('Metode', fontsize=16)\n",
    "plt.ylabel('Jumlah', fontsize=16)\n",
    "\n",
    "# Menambahkan legenda\n",
    "plt.legend(title='Sentimen', labels=['Negatif', 'Netral', 'Positif'], fontsize=14, title_fontsize=16)\n",
    "\n",
    "# Mengatur label x-axis agar menjadi dua baris\n",
    "ax = plt.gca()\n",
    "labels = [label.get_text().replace(' ', '\\n') for label in ax.get_xticklabels()]\n",
    "ax.set_xticklabels(labels)\n",
    "\n",
    "plt.tight_layout()\n",
    "plt.show()"
   ]
  }
 ],
 "metadata": {
  "kernelspec": {
   "display_name": "Python 3",
   "language": "python",
   "name": "python3"
  },
  "language_info": {
   "codemirror_mode": {
    "name": "ipython",
    "version": 3
   },
   "file_extension": ".py",
   "mimetype": "text/x-python",
   "name": "python",
   "nbconvert_exporter": "python",
   "pygments_lexer": "ipython3",
   "version": "3.9.7"
  }
 },
 "nbformat": 4,
 "nbformat_minor": 2
}
