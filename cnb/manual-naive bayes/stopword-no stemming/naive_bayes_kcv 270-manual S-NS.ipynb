{
 "cells": [
  {
   "cell_type": "code",
   "execution_count": 11,
   "metadata": {},
   "outputs": [
    {
     "data": {
      "text/html": [
       "<div>\n",
       "<style scoped>\n",
       "    .dataframe tbody tr th:only-of-type {\n",
       "        vertical-align: middle;\n",
       "    }\n",
       "\n",
       "    .dataframe tbody tr th {\n",
       "        vertical-align: top;\n",
       "    }\n",
       "\n",
       "    .dataframe thead th {\n",
       "        text-align: right;\n",
       "    }\n",
       "</style>\n",
       "<table border=\"1\" class=\"dataframe\">\n",
       "  <thead>\n",
       "    <tr style=\"text-align: right;\">\n",
       "      <th></th>\n",
       "      <th>review_tokens_SR</th>\n",
       "      <th>Sentimen</th>\n",
       "    </tr>\n",
       "  </thead>\n",
       "  <tbody>\n",
       "    <tr>\n",
       "      <th>0</th>\n",
       "      <td>kecewa banget pesan free pouch dikirimnya cott...</td>\n",
       "      <td>Negatif</td>\n",
       "    </tr>\n",
       "    <tr>\n",
       "      <th>1</th>\n",
       "      <td>kali pengemasan safe sepertinya tutup botol ke...</td>\n",
       "      <td>Negatif</td>\n",
       "    </tr>\n",
       "    <tr>\n",
       "      <th>2</th>\n",
       "      <td>paket datangnya barang pecah return seller iku...</td>\n",
       "      <td>Negatif</td>\n",
       "    </tr>\n",
       "    <tr>\n",
       "      <th>3</th>\n",
       "      <td>enggak sabun nya enggak sesuai deskripsi</td>\n",
       "      <td>Negatif</td>\n",
       "    </tr>\n",
       "    <tr>\n",
       "      <th>4</th>\n",
       "      <td>enggak sesuai harapan</td>\n",
       "      <td>Negatif</td>\n",
       "    </tr>\n",
       "  </tbody>\n",
       "</table>\n",
       "</div>"
      ],
      "text/plain": [
       "                                    review_tokens_SR Sentimen\n",
       "0  kecewa banget pesan free pouch dikirimnya cott...  Negatif\n",
       "1  kali pengemasan safe sepertinya tutup botol ke...  Negatif\n",
       "2  paket datangnya barang pecah return seller iku...  Negatif\n",
       "3           enggak sabun nya enggak sesuai deskripsi  Negatif\n",
       "4                              enggak sesuai harapan  Negatif"
      ]
     },
     "execution_count": 11,
     "metadata": {},
     "output_type": "execute_result"
    }
   ],
   "source": [
    "# Load data ke dalam data frame \n",
    "import pandas as pd\n",
    "\n",
    "# spesifikasi encoding diperlukan karena data tidak menggunakan UTF-8\n",
    "df = pd.read_csv('sentimen_stopword-no stemming_terpisah.csv', encoding='latin-1') \n",
    "\n",
    "df.head()"
   ]
  },
  {
   "cell_type": "code",
   "execution_count": 12,
   "metadata": {},
   "outputs": [
    {
     "name": "stdout",
     "output_type": "stream",
     "text": [
      "Positif    87\n",
      "Netral     85\n",
      "Negatif    75\n",
      "Name: Sentimen, dtype: int64\n",
      "\n",
      "\n",
      "<class 'pandas.core.frame.DataFrame'>\n",
      "RangeIndex: 247 entries, 0 to 246\n",
      "Data columns (total 2 columns):\n",
      " #   Column            Non-Null Count  Dtype \n",
      "---  ------            --------------  ----- \n",
      " 0   review_tokens_SR  247 non-null    object\n",
      " 1   Sentimen          247 non-null    object\n",
      "dtypes: object(2)\n",
      "memory usage: 4.0+ KB\n",
      "None\n",
      "\n",
      "\n",
      "       review_tokens_SR Sentimen\n",
      "count               247      247\n",
      "unique              239        3\n",
      "top        terima kasih  Positif\n",
      "freq                  3       87\n"
     ]
    }
   ],
   "source": [
    "# Cek jumlah data per kelas\n",
    "print(df['Sentimen'].value_counts())\n",
    "print('\\n')\n",
    "\n",
    "# Cek kelengkapan data\n",
    "print(df.info())\n",
    "print('\\n')\n",
    "\n",
    "# Cek statistik deskriptif\n",
    "print(df.describe())"
   ]
  },
  {
   "cell_type": "code",
   "execution_count": 13,
   "metadata": {},
   "outputs": [
    {
     "data": {
      "text/html": [
       "<div>\n",
       "<style scoped>\n",
       "    .dataframe tbody tr th:only-of-type {\n",
       "        vertical-align: middle;\n",
       "    }\n",
       "\n",
       "    .dataframe tbody tr th {\n",
       "        vertical-align: top;\n",
       "    }\n",
       "\n",
       "    .dataframe thead th {\n",
       "        text-align: right;\n",
       "    }\n",
       "</style>\n",
       "<table border=\"1\" class=\"dataframe\">\n",
       "  <thead>\n",
       "    <tr style=\"text-align: right;\">\n",
       "      <th></th>\n",
       "      <th>review_tokens_SR</th>\n",
       "      <th>Sentimen</th>\n",
       "    </tr>\n",
       "  </thead>\n",
       "  <tbody>\n",
       "    <tr>\n",
       "      <th>0</th>\n",
       "      <td>kecewa banget pesan free pouch dikirimnya cott...</td>\n",
       "      <td>0</td>\n",
       "    </tr>\n",
       "    <tr>\n",
       "      <th>1</th>\n",
       "      <td>kali pengemasan safe sepertinya tutup botol ke...</td>\n",
       "      <td>0</td>\n",
       "    </tr>\n",
       "    <tr>\n",
       "      <th>2</th>\n",
       "      <td>paket datangnya barang pecah return seller iku...</td>\n",
       "      <td>0</td>\n",
       "    </tr>\n",
       "    <tr>\n",
       "      <th>3</th>\n",
       "      <td>enggak sabun nya enggak sesuai deskripsi</td>\n",
       "      <td>0</td>\n",
       "    </tr>\n",
       "    <tr>\n",
       "      <th>4</th>\n",
       "      <td>enggak sesuai harapan</td>\n",
       "      <td>0</td>\n",
       "    </tr>\n",
       "  </tbody>\n",
       "</table>\n",
       "</div>"
      ],
      "text/plain": [
       "                                    review_tokens_SR  Sentimen\n",
       "0  kecewa banget pesan free pouch dikirimnya cott...         0\n",
       "1  kali pengemasan safe sepertinya tutup botol ke...         0\n",
       "2  paket datangnya barang pecah return seller iku...         0\n",
       "3           enggak sabun nya enggak sesuai deskripsi         0\n",
       "4                              enggak sesuai harapan         0"
      ]
     },
     "execution_count": 13,
     "metadata": {},
     "output_type": "execute_result"
    }
   ],
   "source": [
    "# Data untuk label\n",
    "new_labels = {\n",
    "    'Negatif' : 0,\n",
    "    'Netral' : 1,\n",
    "    'Positif' : 2\n",
    "}\n",
    "\n",
    "# Encode label (mengubah label dari spam dan ham menjadi 1 dan 0)\n",
    "df['Sentimen'] = df['Sentimen'].map(new_labels)\n",
    "\n",
    "# Cek data teratas\n",
    "df.head()"
   ]
  },
  {
   "cell_type": "code",
   "execution_count": 14,
   "metadata": {},
   "outputs": [
    {
     "data": {
      "image/png": "[encoded data removed]",
      "text/plain": [
       "<Figure size 360x216 with 1 Axes>"
      ]
     },
     "metadata": {
      "needs_background": "light"
     },
     "output_type": "display_data"
    }
   ],
   "source": [
    "import seaborn as sns\n",
    "import matplotlib.pyplot as plt\n",
    "\n",
    "# visualisasi sentimen positif, netral, dan negatif\n",
    "plt.figure(figsize=(5, 3))\n",
    "sns.countplot(data=df, x='Sentimen', palette={0: 'red', 1: 'lightskyblue', 2: 'green'})\n",
    "plt.title('Visualisasi Sentimen Negatif, Netral, Positif')\n",
    "plt.xlabel('Sentimen')\n",
    "plt.ylabel('Jumlah')\n",
    "plt.show()"
   ]
  },
  {
   "cell_type": "code",
   "execution_count": 15,
   "metadata": {},
   "outputs": [],
   "source": [
    "# Memisahkan fitur dengan label\n",
    "X = df['review_tokens_SR'].values\n",
    "y = df['Sentimen'].values"
   ]
  },
  {
   "cell_type": "code",
   "execution_count": 16,
   "metadata": {},
   "outputs": [],
   "source": [
    "# Ekstraksi fitur\n",
    "from sklearn.model_selection import StratifiedKFold\n",
    "from sklearn.metrics import accuracy_score, precision_score, recall_score, f1_score\n",
    "from sklearn.feature_extraction.text import TfidfVectorizer\n",
    "from sklearn.naive_bayes import ComplementNB\n",
    "import numpy as np\n",
    "from sklearn.metrics import classification_report, confusion_matrix\n",
    "from imblearn.over_sampling import SMOTE\n",
    "\n",
    "# Inisialisasi model\n",
    "mnb = ComplementNB(alpha=1.0 , fit_prior=True, class_prior=None)\n",
    "\n",
    "# Membuat objek StratifiedKFold untuk 10-fold cross-validation\n",
    "skf = StratifiedKFold(n_splits=10, shuffle=True, random_state=42)\n",
    "\n",
    "# Inisialisasi TfidfVectorizer\n",
    "bow = TfidfVectorizer(max_features=510)\n",
    "\n",
    "\n",
    "# List untuk menyimpan prediksi dan label sebenarnya dari setiap lipatan\n",
    "all_predictions_testing = []\n",
    "all_true_labels_testing = []\n",
    "all_predictions_training = []\n",
    "all_true_labels_training = []\n",
    "\n",
    "# Loop melalui setiap lipatan (fold) dalam cross-validation\n",
    "for train_index, test_index in skf.split(X, y):\n",
    "    X_train, X_test = X[train_index], X[test_index]  # Data latih dan uji\n",
    "    y_train, y_test = y[train_index], y[test_index]  # Label data latih dan uji\n",
    "\n",
    "    # Transformasi seluruh data menggunakan TfidfVectorizer\n",
    "    X_train_transform = bow.fit_transform(X_train)\n",
    "    X_test_transform = bow.transform(X_test)\n",
    "\n",
    "    # Melatih model klasifikasi pada data latih\n",
    "    mnb.fit(X_train_transform, y_train)\n",
    "\n",
    "    # Membuat prediksi pada data uji\n",
    "    predictions_testing = mnb.predict(X_test_transform)\n",
    "\n",
    "    # Menambahkan prediksi dan label sebenarnya ke dalam list\n",
    "    all_predictions_testing.extend(predictions_testing)\n",
    "    all_true_labels_testing.extend(y_test)\n",
    "\n",
    "    # Membuat prediksi pada data training\n",
    "    predictions_training = mnb.predict(X_train_transform)\n",
    "\n",
    "    # Menambahkan prediksi dan label sebenarnya ke dalam list\n",
    "    all_predictions_training.extend(predictions_training)\n",
    "    all_true_labels_training.extend(y_train)"
   ]
  },
  {
   "cell_type": "code",
   "execution_count": 17,
   "metadata": {},
   "outputs": [
    {
     "name": "stdout",
     "output_type": "stream",
     "text": [
      "------- AKURASI TRAINING -------\n",
      "Overall accuracy: 0.8848403058929375\n",
      "Overall precision: 0.8866444144154548\n",
      "Overall recall: 0.8848403058929375\n",
      "Overall F1-score: 0.8851915223336989\n",
      "Confusion Matrix : \n",
      " [[617  28  30]\n",
      " [ 10 649 106]\n",
      " [ 24  58 701]]\n",
      "-----------------------------------------------------\n",
      "\n",
      "              precision    recall  f1-score   support\n",
      "\n",
      "           0       0.95      0.91      0.93       675\n",
      "           1       0.88      0.85      0.87       765\n",
      "           2       0.84      0.90      0.87       783\n",
      "\n",
      "    accuracy                           0.88      2223\n",
      "   macro avg       0.89      0.89      0.89      2223\n",
      "weighted avg       0.89      0.88      0.89      2223\n",
      "\n"
     ]
    }
   ],
   "source": [
    "# Hitung metrik evaluasi\n",
    "accuracy_training = accuracy_score(all_true_labels_training, all_predictions_training)\n",
    "precision_training = precision_score(all_true_labels_training, all_predictions_training, average='weighted')\n",
    "recall_training = recall_score(all_true_labels_training, all_predictions_training, average='weighted')\n",
    "f1_training = f1_score(all_true_labels_training, all_predictions_training, average='weighted')\n",
    "\n",
    "# Print hasil\n",
    "print(\"------- AKURASI TRAINING -------\")\n",
    "print(\"Overall accuracy:\", accuracy_training)\n",
    "print(\"Overall precision:\", precision_training)\n",
    "print(\"Overall recall:\", recall_training)\n",
    "print(\"Overall F1-score:\", f1_training)\n",
    "\n",
    "print(f'Confusion Matrix : \\n {confusion_matrix(all_true_labels_training, all_predictions_training)}')\n",
    "print('-----------------------------------------------------\\n')\n",
    "print(classification_report(all_true_labels_training, all_predictions_training, zero_division=0))\n"
   ]
  },
  {
   "cell_type": "code",
   "execution_count": 18,
   "metadata": {},
   "outputs": [
    {
     "name": "stdout",
     "output_type": "stream",
     "text": [
      "------- AKURASI TESTING -------\n",
      "Overall accuracy: 0.5668016194331984\n",
      "Overall precision: 0.5650366812074884\n",
      "Overall recall: 0.5668016194331984\n",
      "Overall F1-score: 0.5653397477376771\n",
      "Confusion Matrix : \n",
      " [[50 14 11]\n",
      " [13 44 28]\n",
      " [19 22 46]]\n",
      "-----------------------------------------------------\n",
      "\n",
      "              precision    recall  f1-score   support\n",
      "\n",
      "           0       0.61      0.67      0.64        75\n",
      "           1       0.55      0.52      0.53        85\n",
      "           2       0.54      0.53      0.53        87\n",
      "\n",
      "    accuracy                           0.57       247\n",
      "   macro avg       0.57      0.57      0.57       247\n",
      "weighted avg       0.57      0.57      0.57       247\n",
      "\n"
     ]
    }
   ],
   "source": [
    "# Hitung metrik evaluasi\n",
    "accuracy_testing = accuracy_score(all_true_labels_testing, all_predictions_testing)\n",
    "precision_testing = precision_score(all_true_labels_testing, all_predictions_testing, average='weighted')\n",
    "recall_testing = recall_score(all_true_labels_testing, all_predictions_testing, average='weighted')\n",
    "f1_testing = f1_score(all_true_labels_testing, all_predictions_testing, average='weighted')\n",
    "\n",
    "# Print hasil\n",
    "print(\"------- AKURASI TESTING -------\")\n",
    "print(\"Overall accuracy:\", accuracy_testing)\n",
    "print(\"Overall precision:\", precision_testing)\n",
    "print(\"Overall recall:\", recall_testing)\n",
    "print(\"Overall F1-score:\", f1_testing)\n",
    "\n",
    "print(f'Confusion Matrix : \\n {confusion_matrix(all_true_labels_testing, all_predictions_testing)}')\n",
    "print('-----------------------------------------------------\\n')\n",
    "print(classification_report(all_true_labels_testing, all_predictions_testing, zero_division=0))"
   ]
  },
  {
   "cell_type": "code",
   "execution_count": 19,
   "metadata": {},
   "outputs": [
    {
     "name": "stdout",
     "output_type": "stream",
     "text": [
      "Hasil Analisis Sentimen untuk Teks Baru :  netral\n"
     ]
    }
   ],
   "source": [
    "new_text = input(\"\\nMasukkan teks baru: \")\n",
    "new_text_vec = bow.transform([new_text])\n",
    "predicted_sentimen = mnb.predict(new_text_vec)\n",
    "\n",
    "if predicted_sentimen[0] == 0:\n",
    "    sentiment_label = \"negatif\"\n",
    "elif predicted_sentimen[0] == 1:\n",
    "    sentiment_label = \"netral\"\n",
    "elif predicted_sentimen[0] == 2:\n",
    "    sentiment_label = \"positif\"\n",
    "\n",
    "print(\"Hasil Analisis Sentimen untuk Teks Baru : \", sentiment_label)"
   ]
  }
 ],
 "metadata": {
  "kernelspec": {
   "display_name": "Python 3.9.7 64-bit",
   "language": "python",
   "name": "python3"
  },
  "language_info": {
   "codemirror_mode": {
    "name": "ipython",
    "version": 3
   },
   "file_extension": ".py",
   "mimetype": "text/x-python",
   "name": "python",
   "nbconvert_exporter": "python",
   "pygments_lexer": "ipython3",
   "version": "3.9.7"
  },
  "orig_nbformat": 4,
  "vscode": {
   "interpreter": {
    "hash": "d9013af9292987e25c8fc51c8964e87b073dcbf011589d8bc749c94f550b44c1"
   }
  }
 },
 "nbformat": 4,
 "nbformat_minor": 2
}
