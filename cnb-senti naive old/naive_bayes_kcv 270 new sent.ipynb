{
 "cells": [
  {
   "cell_type": "code",
   "execution_count": 1,
   "metadata": {},
   "outputs": [],
   "source": [
    "# Import library yang diperlukan\n",
    "import pandas as pd\n",
    "import joblib\n",
    "import seaborn as sns\n",
    "import matplotlib.pyplot as plt\n",
    "from sklearn.model_selection import StratifiedKFold\n",
    "from sklearn.metrics import accuracy_score, precision_score, recall_score, f1_score\n",
    "from sklearn.feature_extraction.text import TfidfVectorizer\n",
    "from sklearn.naive_bayes import ComplementNB\n",
    "from sklearn.metrics import classification_report, confusion_matrix"
   ]
  },
  {
   "cell_type": "code",
   "execution_count": 2,
   "metadata": {},
   "outputs": [
    {
     "data": {
      "text/html": [
       "<div>\n",
       "<style scoped>\n",
       "    .dataframe tbody tr th:only-of-type {\n",
       "        vertical-align: middle;\n",
       "    }\n",
       "\n",
       "    .dataframe tbody tr th {\n",
       "        vertical-align: top;\n",
       "    }\n",
       "\n",
       "    .dataframe thead th {\n",
       "        text-align: right;\n",
       "    }\n",
       "</style>\n",
       "<table border=\"1\" class=\"dataframe\">\n",
       "  <thead>\n",
       "    <tr style=\"text-align: right;\">\n",
       "      <th></th>\n",
       "      <th>review_tokens_stemmed</th>\n",
       "      <th>Sentimen</th>\n",
       "      <th>sentimen</th>\n",
       "      <th>classified_text</th>\n",
       "      <th>tweet_text</th>\n",
       "      <th>sentence_score</th>\n",
       "      <th>max_positive</th>\n",
       "      <th>max_negative</th>\n",
       "      <th>kelas</th>\n",
       "    </tr>\n",
       "  </thead>\n",
       "  <tbody>\n",
       "    <tr>\n",
       "      <th>0</th>\n",
       "      <td>kecewa banget pesan free pouch kirim cotton pa...</td>\n",
       "      <td>Negatif</td>\n",
       "      <td>{'classified_text': 'kecewa [-4] banget pesan ...</td>\n",
       "      <td>kecewa [-4] banget pesan free pouch kirim cott...</td>\n",
       "      <td>kecewa banget pesan free pouch kirim cotton p...</td>\n",
       "      <td>['kecewa [-4] banget pesan free pouch kirim co...</td>\n",
       "      <td>5</td>\n",
       "      <td>-4</td>\n",
       "      <td>positif</td>\n",
       "    </tr>\n",
       "    <tr>\n",
       "      <th>1</th>\n",
       "      <td>kali emas tidak safe seperti tutup botol tidak...</td>\n",
       "      <td>Negatif</td>\n",
       "      <td>{'classified_text': 'kali emas [5] tidak safe ...</td>\n",
       "      <td>kali emas [5] tidak safe seperti [1] tutup bot...</td>\n",
       "      <td>kali emas tidak safe seperti tutup botol tida...</td>\n",
       "      <td>['kali emas [5] tidak safe seperti [1] tutup b...</td>\n",
       "      <td>5</td>\n",
       "      <td>-3</td>\n",
       "      <td>positif</td>\n",
       "    </tr>\n",
       "    <tr>\n",
       "      <th>2</th>\n",
       "      <td>paket datang barang pecah return seller ikut k...</td>\n",
       "      <td>Negatif</td>\n",
       "      <td>{'classified_text': 'paket datang barang pecah...</td>\n",
       "      <td>paket datang barang pecah [-2] return seller i...</td>\n",
       "      <td>paket datang barang pecah return seller ikut ...</td>\n",
       "      <td>['paket datang barang pecah [-2] return seller...</td>\n",
       "      <td>1</td>\n",
       "      <td>-1</td>\n",
       "      <td>netral</td>\n",
       "    </tr>\n",
       "    <tr>\n",
       "      <th>3</th>\n",
       "      <td>enggak sabun nya enggak sesuai deskripsi</td>\n",
       "      <td>Negatif</td>\n",
       "      <td>{'classified_text': 'enggak sabun nya enggak s...</td>\n",
       "      <td>enggak sabun nya enggak sesuai [-3] deskripsi</td>\n",
       "      <td>enggak sabun nya enggak sesuai deskripsi</td>\n",
       "      <td>['enggak sabun nya enggak sesuai [-3] deskripsi']</td>\n",
       "      <td>1</td>\n",
       "      <td>-3</td>\n",
       "      <td>negatif</td>\n",
       "    </tr>\n",
       "    <tr>\n",
       "      <th>4</th>\n",
       "      <td>enggak sesuai harap</td>\n",
       "      <td>Negatif</td>\n",
       "      <td>{'classified_text': 'enggak sesuai [-3] harap'...</td>\n",
       "      <td>enggak sesuai [-3] harap</td>\n",
       "      <td>enggak sesuai harap</td>\n",
       "      <td>['enggak sesuai [-3] harap']</td>\n",
       "      <td>1</td>\n",
       "      <td>-3</td>\n",
       "      <td>negatif</td>\n",
       "    </tr>\n",
       "  </tbody>\n",
       "</table>\n",
       "</div>"
      ],
      "text/plain": [
       "                               review_tokens_stemmed Sentimen  \\\n",
       "0  kecewa banget pesan free pouch kirim cotton pa...  Negatif   \n",
       "1  kali emas tidak safe seperti tutup botol tidak...  Negatif   \n",
       "2  paket datang barang pecah return seller ikut k...  Negatif   \n",
       "3           enggak sabun nya enggak sesuai deskripsi  Negatif   \n",
       "4                                enggak sesuai harap  Negatif   \n",
       "\n",
       "                                            sentimen  \\\n",
       "0  {'classified_text': 'kecewa [-4] banget pesan ...   \n",
       "1  {'classified_text': 'kali emas [5] tidak safe ...   \n",
       "2  {'classified_text': 'paket datang barang pecah...   \n",
       "3  {'classified_text': 'enggak sabun nya enggak s...   \n",
       "4  {'classified_text': 'enggak sesuai [-3] harap'...   \n",
       "\n",
       "                                     classified_text  \\\n",
       "0  kecewa [-4] banget pesan free pouch kirim cott...   \n",
       "1  kali emas [5] tidak safe seperti [1] tutup bot...   \n",
       "2  paket datang barang pecah [-2] return seller i...   \n",
       "3      enggak sabun nya enggak sesuai [-3] deskripsi   \n",
       "4                           enggak sesuai [-3] harap   \n",
       "\n",
       "                                          tweet_text  \\\n",
       "0   kecewa banget pesan free pouch kirim cotton p...   \n",
       "1   kali emas tidak safe seperti tutup botol tida...   \n",
       "2   paket datang barang pecah return seller ikut ...   \n",
       "3           enggak sabun nya enggak sesuai deskripsi   \n",
       "4                                enggak sesuai harap   \n",
       "\n",
       "                                      sentence_score  max_positive  \\\n",
       "0  ['kecewa [-4] banget pesan free pouch kirim co...             5   \n",
       "1  ['kali emas [5] tidak safe seperti [1] tutup b...             5   \n",
       "2  ['paket datang barang pecah [-2] return seller...             1   \n",
       "3  ['enggak sabun nya enggak sesuai [-3] deskripsi']             1   \n",
       "4                       ['enggak sesuai [-3] harap']             1   \n",
       "\n",
       "   max_negative    kelas  \n",
       "0            -4  positif  \n",
       "1            -3  positif  \n",
       "2            -1   netral  \n",
       "3            -3  negatif  \n",
       "4            -3  negatif  "
      ]
     },
     "execution_count": 2,
     "metadata": {},
     "output_type": "execute_result"
    }
   ],
   "source": [
    "# Load data ke dalam data frame dan spesifikasi encoding diperlukan karena data tidak menggunakan UTF-8\n",
    "df = pd.read_csv('sentimen_270_terpisah_new.csv', encoding='latin-1') \n",
    "\n",
    "df.head()"
   ]
  },
  {
   "cell_type": "code",
   "execution_count": 3,
   "metadata": {},
   "outputs": [
    {
     "data": {
      "text/html": [
       "<div>\n",
       "<style scoped>\n",
       "    .dataframe tbody tr th:only-of-type {\n",
       "        vertical-align: middle;\n",
       "    }\n",
       "\n",
       "    .dataframe tbody tr th {\n",
       "        vertical-align: top;\n",
       "    }\n",
       "\n",
       "    .dataframe thead th {\n",
       "        text-align: right;\n",
       "    }\n",
       "</style>\n",
       "<table border=\"1\" class=\"dataframe\">\n",
       "  <thead>\n",
       "    <tr style=\"text-align: right;\">\n",
       "      <th></th>\n",
       "      <th>review_tokens_stemmed</th>\n",
       "      <th>kelas</th>\n",
       "    </tr>\n",
       "  </thead>\n",
       "  <tbody>\n",
       "    <tr>\n",
       "      <th>0</th>\n",
       "      <td>kecewa banget pesan free pouch kirim cotton pa...</td>\n",
       "      <td>positif</td>\n",
       "    </tr>\n",
       "    <tr>\n",
       "      <th>1</th>\n",
       "      <td>kali emas tidak safe seperti tutup botol tidak...</td>\n",
       "      <td>positif</td>\n",
       "    </tr>\n",
       "    <tr>\n",
       "      <th>2</th>\n",
       "      <td>paket datang barang pecah return seller ikut k...</td>\n",
       "      <td>netral</td>\n",
       "    </tr>\n",
       "    <tr>\n",
       "      <th>3</th>\n",
       "      <td>enggak sabun nya enggak sesuai deskripsi</td>\n",
       "      <td>negatif</td>\n",
       "    </tr>\n",
       "    <tr>\n",
       "      <th>4</th>\n",
       "      <td>enggak sesuai harap</td>\n",
       "      <td>negatif</td>\n",
       "    </tr>\n",
       "  </tbody>\n",
       "</table>\n",
       "</div>"
      ],
      "text/plain": [
       "                               review_tokens_stemmed    kelas\n",
       "0  kecewa banget pesan free pouch kirim cotton pa...  positif\n",
       "1  kali emas tidak safe seperti tutup botol tidak...  positif\n",
       "2  paket datang barang pecah return seller ikut k...   netral\n",
       "3           enggak sabun nya enggak sesuai deskripsi  negatif\n",
       "4                                enggak sesuai harap  negatif"
      ]
     },
     "execution_count": 3,
     "metadata": {},
     "output_type": "execute_result"
    }
   ],
   "source": [
    "# Drop 3 kolom terakhir yang tidak digunakan dengan fungsi iloc\n",
    "df = df.drop(df.iloc[:,1:8], axis=1)\n",
    "\n",
    "# Cek data teratas\n",
    "df.head()"
   ]
  },
  {
   "cell_type": "code",
   "execution_count": 4,
   "metadata": {},
   "outputs": [
    {
     "data": {
      "text/html": [
       "<div>\n",
       "<style scoped>\n",
       "    .dataframe tbody tr th:only-of-type {\n",
       "        vertical-align: middle;\n",
       "    }\n",
       "\n",
       "    .dataframe tbody tr th {\n",
       "        vertical-align: top;\n",
       "    }\n",
       "\n",
       "    .dataframe thead th {\n",
       "        text-align: right;\n",
       "    }\n",
       "</style>\n",
       "<table border=\"1\" class=\"dataframe\">\n",
       "  <thead>\n",
       "    <tr style=\"text-align: right;\">\n",
       "      <th></th>\n",
       "      <th>Review</th>\n",
       "      <th>Sentimen</th>\n",
       "    </tr>\n",
       "  </thead>\n",
       "  <tbody>\n",
       "    <tr>\n",
       "      <th>0</th>\n",
       "      <td>kecewa banget pesan free pouch kirim cotton pa...</td>\n",
       "      <td>positif</td>\n",
       "    </tr>\n",
       "    <tr>\n",
       "      <th>1</th>\n",
       "      <td>kali emas tidak safe seperti tutup botol tidak...</td>\n",
       "      <td>positif</td>\n",
       "    </tr>\n",
       "    <tr>\n",
       "      <th>2</th>\n",
       "      <td>paket datang barang pecah return seller ikut k...</td>\n",
       "      <td>netral</td>\n",
       "    </tr>\n",
       "    <tr>\n",
       "      <th>3</th>\n",
       "      <td>enggak sabun nya enggak sesuai deskripsi</td>\n",
       "      <td>negatif</td>\n",
       "    </tr>\n",
       "    <tr>\n",
       "      <th>4</th>\n",
       "      <td>enggak sesuai harap</td>\n",
       "      <td>negatif</td>\n",
       "    </tr>\n",
       "  </tbody>\n",
       "</table>\n",
       "</div>"
      ],
      "text/plain": [
       "                                              Review Sentimen\n",
       "0  kecewa banget pesan free pouch kirim cotton pa...  positif\n",
       "1  kali emas tidak safe seperti tutup botol tidak...  positif\n",
       "2  paket datang barang pecah return seller ikut k...   netral\n",
       "3           enggak sabun nya enggak sesuai deskripsi  negatif\n",
       "4                                enggak sesuai harap  negatif"
      ]
     },
     "execution_count": 4,
     "metadata": {},
     "output_type": "execute_result"
    }
   ],
   "source": [
    "# Data untuk rename kolom v1 dan v2\n",
    "new_cols = {\n",
    "    'review_tokens_stemmed' : 'Review',\n",
    "    'kelas' : 'Sentimen'\n",
    "}\n",
    "\n",
    "# Rename nama kolom v1 dan v2\n",
    "df = df.rename(columns=new_cols)\n",
    "\n",
    "# Cek data teratas\n",
    "df.head()"
   ]
  },
  {
   "cell_type": "code",
   "execution_count": 5,
   "metadata": {},
   "outputs": [
    {
     "name": "stdout",
     "output_type": "stream",
     "text": [
      "positif    141\n",
      "netral      63\n",
      "negatif     43\n",
      "Name: Sentimen, dtype: int64\n",
      "\n",
      "\n",
      "<class 'pandas.core.frame.DataFrame'>\n",
      "RangeIndex: 247 entries, 0 to 246\n",
      "Data columns (total 2 columns):\n",
      " #   Column    Non-Null Count  Dtype \n",
      "---  ------    --------------  ----- \n",
      " 0   Review    247 non-null    object\n",
      " 1   Sentimen  247 non-null    object\n",
      "dtypes: object(2)\n",
      "memory usage: 4.0+ KB\n",
      "None\n",
      "\n",
      "\n",
      "              Review Sentimen\n",
      "count            247      247\n",
      "unique           238        3\n",
      "top     terima kasih  positif\n",
      "freq               3      141\n"
     ]
    }
   ],
   "source": [
    "# Cek jumlah data per kelas\n",
    "print(df['Sentimen'].value_counts())\n",
    "print('\\n')\n",
    "\n",
    "# Cek kelengkapan data\n",
    "print(df.info())\n",
    "print('\\n')\n",
    "\n",
    "# Cek statistik deskriptif\n",
    "print(df.describe())"
   ]
  },
  {
   "cell_type": "code",
   "execution_count": 6,
   "metadata": {},
   "outputs": [
    {
     "data": {
      "text/html": [
       "<div>\n",
       "<style scoped>\n",
       "    .dataframe tbody tr th:only-of-type {\n",
       "        vertical-align: middle;\n",
       "    }\n",
       "\n",
       "    .dataframe tbody tr th {\n",
       "        vertical-align: top;\n",
       "    }\n",
       "\n",
       "    .dataframe thead th {\n",
       "        text-align: right;\n",
       "    }\n",
       "</style>\n",
       "<table border=\"1\" class=\"dataframe\">\n",
       "  <thead>\n",
       "    <tr style=\"text-align: right;\">\n",
       "      <th></th>\n",
       "      <th>Review</th>\n",
       "      <th>Sentimen</th>\n",
       "    </tr>\n",
       "  </thead>\n",
       "  <tbody>\n",
       "    <tr>\n",
       "      <th>0</th>\n",
       "      <td>kecewa banget pesan free pouch kirim cotton pa...</td>\n",
       "      <td>2</td>\n",
       "    </tr>\n",
       "    <tr>\n",
       "      <th>1</th>\n",
       "      <td>kali emas tidak safe seperti tutup botol tidak...</td>\n",
       "      <td>2</td>\n",
       "    </tr>\n",
       "    <tr>\n",
       "      <th>2</th>\n",
       "      <td>paket datang barang pecah return seller ikut k...</td>\n",
       "      <td>1</td>\n",
       "    </tr>\n",
       "    <tr>\n",
       "      <th>3</th>\n",
       "      <td>enggak sabun nya enggak sesuai deskripsi</td>\n",
       "      <td>0</td>\n",
       "    </tr>\n",
       "    <tr>\n",
       "      <th>4</th>\n",
       "      <td>enggak sesuai harap</td>\n",
       "      <td>0</td>\n",
       "    </tr>\n",
       "  </tbody>\n",
       "</table>\n",
       "</div>"
      ],
      "text/plain": [
       "                                              Review  Sentimen\n",
       "0  kecewa banget pesan free pouch kirim cotton pa...         2\n",
       "1  kali emas tidak safe seperti tutup botol tidak...         2\n",
       "2  paket datang barang pecah return seller ikut k...         1\n",
       "3           enggak sabun nya enggak sesuai deskripsi         0\n",
       "4                                enggak sesuai harap         0"
      ]
     },
     "execution_count": 6,
     "metadata": {},
     "output_type": "execute_result"
    }
   ],
   "source": [
    "# Data untuk label\n",
    "new_labels = {\n",
    "    'negatif' : 0,\n",
    "    'netral' : 1,\n",
    "    'positif' : 2\n",
    "}\n",
    "\n",
    "# Encode label (mengubah label dari spam dan ham menjadi 1 dan 0)\n",
    "df['Sentimen'] = df['Sentimen'].map(new_labels)\n",
    "\n",
    "# Cek data teratas\n",
    "df.head()"
   ]
  },
  {
   "cell_type": "code",
   "execution_count": 7,
   "metadata": {},
   "outputs": [
    {
     "data": {
      "image/png": "[encoded data removed]",
      "text/plain": [
       "<Figure size 360x216 with 1 Axes>"
      ]
     },
     "metadata": {
      "needs_background": "light"
     },
     "output_type": "display_data"
    }
   ],
   "source": [
    "# visualisasi sentimen positif, netral, dan negatif\n",
    "plt.figure(figsize=(5, 3))\n",
    "sns.countplot(data=df, x='Sentimen', palette={0: 'red', 1: 'lightskyblue', 2: 'green'})\n",
    "plt.title('Visualisasi Sentimen Negatif, Netral, Positif')\n",
    "plt.xlabel('Sentimen')\n",
    "plt.ylabel('Jumlah')\n",
    "plt.show()"
   ]
  },
  {
   "cell_type": "code",
   "execution_count": 8,
   "metadata": {},
   "outputs": [],
   "source": [
    "# Memisahkan fitur dengan label\n",
    "X = df['Review'].values\n",
    "y = df['Sentimen'].values"
   ]
  },
  {
   "cell_type": "code",
   "execution_count": 9,
   "metadata": {},
   "outputs": [],
   "source": [
    "# Inisialisasi model\n",
    "cnb = ComplementNB(alpha=1.0 , fit_prior=True, class_prior=None)\n",
    "\n",
    "# Membuat objek StratifiedKFold untuk 10-fold cross-validation\n",
    "skf = StratifiedKFold(n_splits=10, shuffle=True, random_state=42)\n",
    "\n",
    "# Inisialisasi TfidfVectorizer\n",
    "vectorizer = TfidfVectorizer()\n",
    "\n",
    "# List untuk menyimpan prediksi dan label sebenarnya dari setiap lipatan\n",
    "all_predictions_testing = []\n",
    "all_true_labels_testing = []\n",
    "all_predictions_training = []\n",
    "all_true_labels_training = []\n",
    "\n",
    "# Loop melalui setiap lipatan (fold) dalam cross-validation\n",
    "for train_index, test_index in skf.split(X, y):\n",
    "    X_train, X_test = X[train_index], X[test_index]  # Data latih dan uji\n",
    "    y_train, y_test = y[train_index], y[test_index]  # Label data latih dan uji\n",
    "\n",
    "    # Transformasi seluruh data menggunakan TfidfVectorizer\n",
    "    X_train_transform = vectorizer.fit_transform(X_train)\n",
    "    X_test_transform = vectorizer.transform(X_test)\n",
    "\n",
    "    # Melatih model klasifikasi pada data latih\n",
    "    cnb.fit(X_train_transform, y_train)\n",
    "\n",
    "    # Membuat prediksi pada data uji\n",
    "    predictions_testing = cnb.predict(X_test_transform)\n",
    "\n",
    "    # Menambahkan prediksi dan label sebenarnya ke dalam list\n",
    "    all_predictions_testing.extend(predictions_testing)\n",
    "    all_true_labels_testing.extend(y_test)\n",
    "\n",
    "    # Membuat prediksi pada data training\n",
    "    predictions_training = cnb.predict(X_train_transform)\n",
    "\n",
    "    # Menambahkan prediksi dan label sebenarnya ke dalam list\n",
    "    all_predictions_training.extend(predictions_training)\n",
    "    all_true_labels_training.extend(y_train)"
   ]
  },
  {
   "cell_type": "code",
   "execution_count": 10,
   "metadata": {},
   "outputs": [
    {
     "data": {
      "text/plain": [
       "['model.pickle']"
      ]
     },
     "execution_count": 10,
     "metadata": {},
     "output_type": "execute_result"
    }
   ],
   "source": [
    "# Simpan TfidfVectorizer ke dalam file .pickle\n",
    "vectorizer_filename = 'tfidf.pickle'\n",
    "joblib.dump(vectorizer, vectorizer_filename)\n",
    "\n",
    "# Simpan model ke dalam file .pickle\n",
    "model_filename = 'model.pickle'\n",
    "joblib.dump(cnb, model_filename)"
   ]
  },
  {
   "cell_type": "code",
   "execution_count": 11,
   "metadata": {},
   "outputs": [
    {
     "name": "stdout",
     "output_type": "stream",
     "text": [
      "------- AKURASI TRAINING -------\n",
      "Overall accuracy: 0.9302744039586145\n",
      "Overall precision: 0.9340868257420851\n",
      "Overall recall: 0.9302744039586145\n",
      "Overall F1-score: 0.9278870350715226\n",
      "Confusion Matrix : \n",
      " [[ 370    0   17]\n",
      " [  49  436   82]\n",
      " [   0    7 1262]]\n",
      "-----------------------------------------------------\n",
      "\n",
      "              precision    recall  f1-score   support\n",
      "\n",
      "           0       0.88      0.96      0.92       387\n",
      "           1       0.98      0.77      0.86       567\n",
      "           2       0.93      0.99      0.96      1269\n",
      "\n",
      "    accuracy                           0.93      2223\n",
      "   macro avg       0.93      0.91      0.91      2223\n",
      "weighted avg       0.93      0.93      0.93      2223\n",
      "\n"
     ]
    }
   ],
   "source": [
    "# Hitung metrik evaluasi\n",
    "accuracy_training = accuracy_score(all_true_labels_training, all_predictions_training)\n",
    "precision_training = precision_score(all_true_labels_training, all_predictions_training, average='weighted')\n",
    "recall_training = recall_score(all_true_labels_training, all_predictions_training, average='weighted')\n",
    "f1_training = f1_score(all_true_labels_training, all_predictions_training, average='weighted')\n",
    "\n",
    "# Print hasil\n",
    "print(\"------- AKURASI TRAINING -------\")\n",
    "print(\"Overall accuracy:\", accuracy_training)\n",
    "print(\"Overall precision:\", precision_training)\n",
    "print(\"Overall recall:\", recall_training)\n",
    "print(\"Overall F1-score:\", f1_training)\n",
    "\n",
    "print(f'Confusion Matrix : \\n {confusion_matrix(all_true_labels_training, all_predictions_training)}')\n",
    "print('-----------------------------------------------------\\n')\n",
    "print(classification_report(all_true_labels_training, all_predictions_training, zero_division=0))\n"
   ]
  },
  {
   "cell_type": "code",
   "execution_count": 12,
   "metadata": {},
   "outputs": [
    {
     "name": "stdout",
     "output_type": "stream",
     "text": [
      "------- AKURASI TESTING -------\n",
      "Overall accuracy: 0.659919028340081\n",
      "Overall precision: 0.630905442778554\n",
      "Overall recall: 0.659919028340081\n",
      "Overall F1-score: 0.6132869889361628\n",
      "Confusion Matrix : \n",
      " [[ 24   2  17]\n",
      " [ 20  10  33]\n",
      " [  5   7 129]]\n",
      "-----------------------------------------------------\n",
      "\n",
      "              precision    recall  f1-score   support\n",
      "\n",
      "           0       0.49      0.56      0.52        43\n",
      "           1       0.53      0.16      0.24        63\n",
      "           2       0.72      0.91      0.81       141\n",
      "\n",
      "    accuracy                           0.66       247\n",
      "   macro avg       0.58      0.54      0.52       247\n",
      "weighted avg       0.63      0.66      0.61       247\n",
      "\n"
     ]
    }
   ],
   "source": [
    "# Hitung metrik evaluasi\n",
    "accuracy_testing = accuracy_score(all_true_labels_testing, all_predictions_testing)\n",
    "precision_testing = precision_score(all_true_labels_testing, all_predictions_testing, average='weighted')\n",
    "recall_testing = recall_score(all_true_labels_testing, all_predictions_testing, average='weighted')\n",
    "f1_testing = f1_score(all_true_labels_testing, all_predictions_testing, average='weighted')\n",
    "\n",
    "# Print hasil\n",
    "print(\"------- AKURASI TESTING -------\")\n",
    "print(\"Overall accuracy:\", accuracy_testing)\n",
    "print(\"Overall precision:\", precision_testing)\n",
    "print(\"Overall recall:\", recall_testing)\n",
    "print(\"Overall F1-score:\", f1_testing)\n",
    "\n",
    "print(f'Confusion Matrix : \\n {confusion_matrix(all_true_labels_testing, all_predictions_testing)}')\n",
    "print('-----------------------------------------------------\\n')\n",
    "print(classification_report(all_true_labels_testing, all_predictions_testing, zero_division=0))"
   ]
  },
  {
   "cell_type": "code",
   "execution_count": 17,
   "metadata": {},
   "outputs": [
    {
     "name": "stdout",
     "output_type": "stream",
     "text": [
      "Hasil Analisis Sentimen untuk Teks Baru :  negatif\n"
     ]
    }
   ],
   "source": [
    "new_text = input(\"\\nMasukkan teks baru: \")\n",
    "new_text_vec = vectorizer.transform([new_text])\n",
    "predicted_sentimen = cnb.predict(new_text_vec)\n",
    "\n",
    "if predicted_sentimen[0] == 0:\n",
    "    sentiment_label = \"negatif\"\n",
    "elif predicted_sentimen[0] == 1:\n",
    "    sentiment_label = \"netral\"\n",
    "elif predicted_sentimen[0] == 2:\n",
    "    sentiment_label = \"positif\"\n",
    "\n",
    "print(\"Hasil Analisis Sentimen untuk Teks Baru : \", sentiment_label)"
   ]
  }
 ],
 "metadata": {
  "kernelspec": {
   "display_name": "Python 3.9.7 64-bit",
   "language": "python",
   "name": "python3"
  },
  "language_info": {
   "codemirror_mode": {
    "name": "ipython",
    "version": 3
   },
   "file_extension": ".py",
   "mimetype": "text/x-python",
   "name": "python",
   "nbconvert_exporter": "python",
   "pygments_lexer": "ipython3",
   "version": "3.9.7"
  },
  "orig_nbformat": 4,
  "vscode": {
   "interpreter": {
    "hash": "d9013af9292987e25c8fc51c8964e87b073dcbf011589d8bc749c94f550b44c1"
   }
  }
 },
 "nbformat": 4,
 "nbformat_minor": 2
}
