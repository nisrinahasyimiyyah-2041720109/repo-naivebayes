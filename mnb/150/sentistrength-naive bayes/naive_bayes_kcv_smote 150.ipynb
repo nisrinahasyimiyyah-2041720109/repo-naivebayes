{
 "cells": [
  {
   "cell_type": "code",
   "execution_count": 1,
   "metadata": {},
   "outputs": [
    {
     "data": {
      "text/html": [
       "<div>\n",
       "<style scoped>\n",
       "    .dataframe tbody tr th:only-of-type {\n",
       "        vertical-align: middle;\n",
       "    }\n",
       "\n",
       "    .dataframe tbody tr th {\n",
       "        vertical-align: top;\n",
       "    }\n",
       "\n",
       "    .dataframe thead th {\n",
       "        text-align: right;\n",
       "    }\n",
       "</style>\n",
       "<table border=\"1\" class=\"dataframe\">\n",
       "  <thead>\n",
       "    <tr style=\"text-align: right;\">\n",
       "      <th></th>\n",
       "      <th>review_tokens_stemmed</th>\n",
       "      <th>sentimen</th>\n",
       "      <th>classified_text</th>\n",
       "      <th>tweet_text</th>\n",
       "      <th>sentence_score</th>\n",
       "      <th>max_positive</th>\n",
       "      <th>max_negative</th>\n",
       "      <th>kelas</th>\n",
       "    </tr>\n",
       "  </thead>\n",
       "  <tbody>\n",
       "    <tr>\n",
       "      <th>0</th>\n",
       "      <td>beautiful package bintang buat safety nya</td>\n",
       "      <td>{'classified_text': 'beautiful package bintang...</td>\n",
       "      <td>beautiful package bintang buat safety nya</td>\n",
       "      <td>beautiful package bintang buat safety nya</td>\n",
       "      <td>['beautiful package bintang buat safety nya']</td>\n",
       "      <td>1</td>\n",
       "      <td>-1</td>\n",
       "      <td>netral</td>\n",
       "    </tr>\n",
       "    <tr>\n",
       "      <th>1</th>\n",
       "      <td>tipe kulit kering</td>\n",
       "      <td>{'classified_text': 'tipe kulit kering', 'twee...</td>\n",
       "      <td>tipe kulit kering</td>\n",
       "      <td>tipe kulit kering</td>\n",
       "      <td>['tipe kulit kering']</td>\n",
       "      <td>1</td>\n",
       "      <td>-1</td>\n",
       "      <td>netral</td>\n",
       "    </tr>\n",
       "    <tr>\n",
       "      <th>2</th>\n",
       "      <td>kirim lama beda provinsi gapapa packingnya ama...</td>\n",
       "      <td>{'classified_text': 'kirim lama [-2] beda prov...</td>\n",
       "      <td>kirim lama [-2] beda provinsi gapapa packingny...</td>\n",
       "      <td>kirim lama beda provinsi gapapa packingnya am...</td>\n",
       "      <td>['kirim lama [-2] beda provinsi gapapa packing...</td>\n",
       "      <td>5</td>\n",
       "      <td>-2</td>\n",
       "      <td>positif</td>\n",
       "    </tr>\n",
       "    <tr>\n",
       "      <th>3</th>\n",
       "      <td>top</td>\n",
       "      <td>{'classified_text': 'top [4]', 'tweet_text': '...</td>\n",
       "      <td>top [4]</td>\n",
       "      <td>top</td>\n",
       "      <td>['top [4]']</td>\n",
       "      <td>4</td>\n",
       "      <td>-1</td>\n",
       "      <td>positif</td>\n",
       "    </tr>\n",
       "    <tr>\n",
       "      <th>4</th>\n",
       "      <td>tipe kulit minyak tipe kulit kering tipe kulit...</td>\n",
       "      <td>{'classified_text': 'tipe kulit minyak tipe ku...</td>\n",
       "      <td>tipe kulit minyak tipe kulit kering tipe kulit...</td>\n",
       "      <td>tipe kulit minyak tipe kulit kering tipe kuli...</td>\n",
       "      <td>['tipe kulit minyak tipe kulit kering tipe kul...</td>\n",
       "      <td>3</td>\n",
       "      <td>-5</td>\n",
       "      <td>negatif</td>\n",
       "    </tr>\n",
       "  </tbody>\n",
       "</table>\n",
       "</div>"
      ],
      "text/plain": [
       "                               review_tokens_stemmed  \\\n",
       "0          beautiful package bintang buat safety nya   \n",
       "1                                  tipe kulit kering   \n",
       "2  kirim lama beda provinsi gapapa packingnya ama...   \n",
       "3                                                top   \n",
       "4  tipe kulit minyak tipe kulit kering tipe kulit...   \n",
       "\n",
       "                                            sentimen  \\\n",
       "0  {'classified_text': 'beautiful package bintang...   \n",
       "1  {'classified_text': 'tipe kulit kering', 'twee...   \n",
       "2  {'classified_text': 'kirim lama [-2] beda prov...   \n",
       "3  {'classified_text': 'top [4]', 'tweet_text': '...   \n",
       "4  {'classified_text': 'tipe kulit minyak tipe ku...   \n",
       "\n",
       "                                     classified_text  \\\n",
       "0          beautiful package bintang buat safety nya   \n",
       "1                                  tipe kulit kering   \n",
       "2  kirim lama [-2] beda provinsi gapapa packingny...   \n",
       "3                                            top [4]   \n",
       "4  tipe kulit minyak tipe kulit kering tipe kulit...   \n",
       "\n",
       "                                          tweet_text  \\\n",
       "0          beautiful package bintang buat safety nya   \n",
       "1                                  tipe kulit kering   \n",
       "2   kirim lama beda provinsi gapapa packingnya am...   \n",
       "3                                                top   \n",
       "4   tipe kulit minyak tipe kulit kering tipe kuli...   \n",
       "\n",
       "                                      sentence_score  max_positive  \\\n",
       "0      ['beautiful package bintang buat safety nya']             1   \n",
       "1                              ['tipe kulit kering']             1   \n",
       "2  ['kirim lama [-2] beda provinsi gapapa packing...             5   \n",
       "3                                        ['top [4]']             4   \n",
       "4  ['tipe kulit minyak tipe kulit kering tipe kul...             3   \n",
       "\n",
       "   max_negative    kelas  \n",
       "0            -1   netral  \n",
       "1            -1   netral  \n",
       "2            -2  positif  \n",
       "3            -1  positif  \n",
       "4            -5  negatif  "
      ]
     },
     "execution_count": 1,
     "metadata": {},
     "output_type": "execute_result"
    }
   ],
   "source": [
    "# Load data ke dalam data frame \n",
    "import pandas as pd\n",
    "\n",
    "# spesifikasi encoding diperlukan karena data tidak menggunakan UTF-8\n",
    "df = pd.read_csv('sentimen_150_terpisah.csv', encoding='latin-1') \n",
    "\n",
    "df.head()"
   ]
  },
  {
   "cell_type": "code",
   "execution_count": 2,
   "metadata": {},
   "outputs": [
    {
     "data": {
      "text/html": [
       "<div>\n",
       "<style scoped>\n",
       "    .dataframe tbody tr th:only-of-type {\n",
       "        vertical-align: middle;\n",
       "    }\n",
       "\n",
       "    .dataframe tbody tr th {\n",
       "        vertical-align: top;\n",
       "    }\n",
       "\n",
       "    .dataframe thead th {\n",
       "        text-align: right;\n",
       "    }\n",
       "</style>\n",
       "<table border=\"1\" class=\"dataframe\">\n",
       "  <thead>\n",
       "    <tr style=\"text-align: right;\">\n",
       "      <th></th>\n",
       "      <th>review_tokens_stemmed</th>\n",
       "      <th>kelas</th>\n",
       "    </tr>\n",
       "  </thead>\n",
       "  <tbody>\n",
       "    <tr>\n",
       "      <th>0</th>\n",
       "      <td>beautiful package bintang buat safety nya</td>\n",
       "      <td>netral</td>\n",
       "    </tr>\n",
       "    <tr>\n",
       "      <th>1</th>\n",
       "      <td>tipe kulit kering</td>\n",
       "      <td>netral</td>\n",
       "    </tr>\n",
       "    <tr>\n",
       "      <th>2</th>\n",
       "      <td>kirim lama beda provinsi gapapa packingnya ama...</td>\n",
       "      <td>positif</td>\n",
       "    </tr>\n",
       "    <tr>\n",
       "      <th>3</th>\n",
       "      <td>top</td>\n",
       "      <td>positif</td>\n",
       "    </tr>\n",
       "    <tr>\n",
       "      <th>4</th>\n",
       "      <td>tipe kulit minyak tipe kulit kering tipe kulit...</td>\n",
       "      <td>negatif</td>\n",
       "    </tr>\n",
       "  </tbody>\n",
       "</table>\n",
       "</div>"
      ],
      "text/plain": [
       "                               review_tokens_stemmed    kelas\n",
       "0          beautiful package bintang buat safety nya   netral\n",
       "1                                  tipe kulit kering   netral\n",
       "2  kirim lama beda provinsi gapapa packingnya ama...  positif\n",
       "3                                                top  positif\n",
       "4  tipe kulit minyak tipe kulit kering tipe kulit...  negatif"
      ]
     },
     "execution_count": 2,
     "metadata": {},
     "output_type": "execute_result"
    }
   ],
   "source": [
    "# Drop 3 kolom terakhir yang tidak digunakan dengan fungsi iloc\n",
    "df = df.drop(df.iloc[:,1:7], axis=1)\n",
    "\n",
    "# Cek data teratas\n",
    "df.head()"
   ]
  },
  {
   "cell_type": "code",
   "execution_count": 3,
   "metadata": {},
   "outputs": [
    {
     "data": {
      "text/html": [
       "<div>\n",
       "<style scoped>\n",
       "    .dataframe tbody tr th:only-of-type {\n",
       "        vertical-align: middle;\n",
       "    }\n",
       "\n",
       "    .dataframe tbody tr th {\n",
       "        vertical-align: top;\n",
       "    }\n",
       "\n",
       "    .dataframe thead th {\n",
       "        text-align: right;\n",
       "    }\n",
       "</style>\n",
       "<table border=\"1\" class=\"dataframe\">\n",
       "  <thead>\n",
       "    <tr style=\"text-align: right;\">\n",
       "      <th></th>\n",
       "      <th>Review</th>\n",
       "      <th>Sentimen</th>\n",
       "    </tr>\n",
       "  </thead>\n",
       "  <tbody>\n",
       "    <tr>\n",
       "      <th>0</th>\n",
       "      <td>beautiful package bintang buat safety nya</td>\n",
       "      <td>netral</td>\n",
       "    </tr>\n",
       "    <tr>\n",
       "      <th>1</th>\n",
       "      <td>tipe kulit kering</td>\n",
       "      <td>netral</td>\n",
       "    </tr>\n",
       "    <tr>\n",
       "      <th>2</th>\n",
       "      <td>kirim lama beda provinsi gapapa packingnya ama...</td>\n",
       "      <td>positif</td>\n",
       "    </tr>\n",
       "    <tr>\n",
       "      <th>3</th>\n",
       "      <td>top</td>\n",
       "      <td>positif</td>\n",
       "    </tr>\n",
       "    <tr>\n",
       "      <th>4</th>\n",
       "      <td>tipe kulit minyak tipe kulit kering tipe kulit...</td>\n",
       "      <td>negatif</td>\n",
       "    </tr>\n",
       "  </tbody>\n",
       "</table>\n",
       "</div>"
      ],
      "text/plain": [
       "                                              Review Sentimen\n",
       "0          beautiful package bintang buat safety nya   netral\n",
       "1                                  tipe kulit kering   netral\n",
       "2  kirim lama beda provinsi gapapa packingnya ama...  positif\n",
       "3                                                top  positif\n",
       "4  tipe kulit minyak tipe kulit kering tipe kulit...  negatif"
      ]
     },
     "execution_count": 3,
     "metadata": {},
     "output_type": "execute_result"
    }
   ],
   "source": [
    "# Data untuk rename kolom v1 dan v2\n",
    "new_cols = {\n",
    "    'review_tokens_stemmed' : 'Review',\n",
    "    'kelas' : 'Sentimen'\n",
    "}\n",
    "\n",
    "# Rename nama kolom v1 dan v2\n",
    "df = df.rename(columns=new_cols)\n",
    "\n",
    "# Cek data teratas\n",
    "df.head()"
   ]
  },
  {
   "cell_type": "code",
   "execution_count": 4,
   "metadata": {},
   "outputs": [
    {
     "name": "stdout",
     "output_type": "stream",
     "text": [
      "positif    92\n",
      "netral     29\n",
      "negatif    14\n",
      "Name: Sentimen, dtype: int64\n",
      "\n",
      "\n",
      "<class 'pandas.core.frame.DataFrame'>\n",
      "RangeIndex: 135 entries, 0 to 134\n",
      "Data columns (total 2 columns):\n",
      " #   Column    Non-Null Count  Dtype \n",
      "---  ------    --------------  ----- \n",
      " 0   Review    135 non-null    object\n",
      " 1   Sentimen  135 non-null    object\n",
      "dtypes: object(2)\n",
      "memory usage: 2.2+ KB\n",
      "None\n",
      "\n",
      "\n",
      "       Review Sentimen\n",
      "count     135      135\n",
      "unique    130        3\n",
      "top     bagus  positif\n",
      "freq        3       92\n"
     ]
    }
   ],
   "source": [
    "# Cek jumlah data per kelas\n",
    "print(df['Sentimen'].value_counts())\n",
    "print('\\n')\n",
    "\n",
    "# Cek kelengkapan data\n",
    "print(df.info())\n",
    "print('\\n')\n",
    "\n",
    "# Cek statistik deskriptif\n",
    "print(df.describe())"
   ]
  },
  {
   "cell_type": "code",
   "execution_count": 5,
   "metadata": {},
   "outputs": [
    {
     "data": {
      "text/html": [
       "<div>\n",
       "<style scoped>\n",
       "    .dataframe tbody tr th:only-of-type {\n",
       "        vertical-align: middle;\n",
       "    }\n",
       "\n",
       "    .dataframe tbody tr th {\n",
       "        vertical-align: top;\n",
       "    }\n",
       "\n",
       "    .dataframe thead th {\n",
       "        text-align: right;\n",
       "    }\n",
       "</style>\n",
       "<table border=\"1\" class=\"dataframe\">\n",
       "  <thead>\n",
       "    <tr style=\"text-align: right;\">\n",
       "      <th></th>\n",
       "      <th>Review</th>\n",
       "      <th>Sentimen</th>\n",
       "    </tr>\n",
       "  </thead>\n",
       "  <tbody>\n",
       "    <tr>\n",
       "      <th>0</th>\n",
       "      <td>beautiful package bintang buat safety nya</td>\n",
       "      <td>1</td>\n",
       "    </tr>\n",
       "    <tr>\n",
       "      <th>1</th>\n",
       "      <td>tipe kulit kering</td>\n",
       "      <td>1</td>\n",
       "    </tr>\n",
       "    <tr>\n",
       "      <th>2</th>\n",
       "      <td>kirim lama beda provinsi gapapa packingnya ama...</td>\n",
       "      <td>2</td>\n",
       "    </tr>\n",
       "    <tr>\n",
       "      <th>3</th>\n",
       "      <td>top</td>\n",
       "      <td>2</td>\n",
       "    </tr>\n",
       "    <tr>\n",
       "      <th>4</th>\n",
       "      <td>tipe kulit minyak tipe kulit kering tipe kulit...</td>\n",
       "      <td>0</td>\n",
       "    </tr>\n",
       "  </tbody>\n",
       "</table>\n",
       "</div>"
      ],
      "text/plain": [
       "                                              Review  Sentimen\n",
       "0          beautiful package bintang buat safety nya         1\n",
       "1                                  tipe kulit kering         1\n",
       "2  kirim lama beda provinsi gapapa packingnya ama...         2\n",
       "3                                                top         2\n",
       "4  tipe kulit minyak tipe kulit kering tipe kulit...         0"
      ]
     },
     "execution_count": 5,
     "metadata": {},
     "output_type": "execute_result"
    }
   ],
   "source": [
    "# Data untuk label\n",
    "new_labels = {\n",
    "    'negatif' : 0,\n",
    "    'netral' : 1,\n",
    "    'positif' : 2\n",
    "}\n",
    "\n",
    "# Encode label (mengubah label dari spam dan ham menjadi 1 dan 0)\n",
    "df['Sentimen'] = df['Sentimen'].map(new_labels)\n",
    "\n",
    "# Cek data teratas\n",
    "df.head()"
   ]
  },
  {
   "cell_type": "code",
   "execution_count": 6,
   "metadata": {},
   "outputs": [
    {
     "data": {
      "image/png": "[encoded data removed]",
      "text/plain": [
       "<Figure size 360x216 with 1 Axes>"
      ]
     },
     "metadata": {
      "needs_background": "light"
     },
     "output_type": "display_data"
    }
   ],
   "source": [
    "import seaborn as sns\n",
    "import matplotlib.pyplot as plt\n",
    "\n",
    "# visualisasi sentimen positif, netral, dan negatif\n",
    "plt.figure(figsize=(5, 3))\n",
    "sns.countplot(data=df, x='Sentimen', palette={0: 'red', 1: 'lightskyblue', 2: 'green'})\n",
    "plt.title('Visualisasi Sentimen Negatif, Netral, Positif')\n",
    "plt.xlabel('Sentimen')\n",
    "plt.ylabel('Jumlah')\n",
    "plt.show()"
   ]
  },
  {
   "cell_type": "code",
   "execution_count": 7,
   "metadata": {},
   "outputs": [],
   "source": [
    "# Memisahkan fitur dengan label\n",
    "X = df['Review'].values\n",
    "y = df['Sentimen'].values"
   ]
  },
  {
   "cell_type": "code",
   "execution_count": 8,
   "metadata": {},
   "outputs": [],
   "source": [
    "# Ekstraksi fitur\n",
    "from sklearn.model_selection import StratifiedKFold\n",
    "from sklearn.metrics import accuracy_score, precision_score, recall_score, f1_score\n",
    "from sklearn.feature_extraction.text import TfidfVectorizer\n",
    "from sklearn.naive_bayes import MultinomialNB\n",
    "import numpy as np\n",
    "from sklearn.metrics import classification_report, confusion_matrix\n",
    "from imblearn.over_sampling import SMOTE\n",
    "\n",
    "# Inisialisasi model\n",
    "mnb = MultinomialNB()\n",
    "\n",
    "# Membuat objek StratifiedKFold untuk 10-fold cross-validation\n",
    "skf = StratifiedKFold(n_splits=10, shuffle=True, random_state=42)\n",
    "\n",
    "# Inisialisasi TfidfVectorizer\n",
    "bow = TfidfVectorizer(max_features=510)\n",
    "\n",
    "# List untuk menyimpan prediksi dan label sebenarnya dari setiap lipatan\n",
    "all_predictions = []\n",
    "all_true_labels = []\n",
    "\n",
    "# Loop melalui setiap lipatan (fold) dalam cross-validation\n",
    "for train_index, test_index in skf.split(X, y):\n",
    "    X_train, X_test = X[train_index], X[test_index]  # Data latih dan uji\n",
    "    y_train, y_test = y[train_index], y[test_index]  # Label data latih dan uji\n",
    "\n",
    "    # Transformasi seluruh data menggunakan TfidfVectorizer\n",
    "    X_train_transform = bow.fit_transform(X_train)\n",
    "    X_test_transform = bow.transform(X_test)\n",
    "\n",
    "    smote = SMOTE(random_state=42)\n",
    "    X_train_resampled, y_train_resampled = smote.fit_resample(X_train_transform, y_train)\n",
    "\n",
    "    # Melatih model klasifikasi pada data latih\n",
    "    mnb.fit(X_train_resampled, y_train_resampled)\n",
    "\n",
    "    # Membuat prediksi pada data uji\n",
    "    predictions = mnb.predict(X_test_transform)\n",
    "\n",
    "    # Menambahkan prediksi dan label sebenarnya ke dalam list\n",
    "    all_predictions.extend(predictions)\n",
    "    all_true_labels.extend(y_test)"
   ]
  },
  {
   "cell_type": "code",
   "execution_count": 9,
   "metadata": {},
   "outputs": [
    {
     "data": {
      "image/png": "[encoded data removed]",
      "text/plain": [
       "<Figure size 360x216 with 1 Axes>"
      ]
     },
     "metadata": {
      "needs_background": "light"
     },
     "output_type": "display_data"
    }
   ],
   "source": [
    "# visualisasi hasil resampling\n",
    "# Convert NumPy array to pandas Series\n",
    "y_train_resampled_series = pd.Series(y_train_resampled)\n",
    "\n",
    "# Visualisasi hasil resampling\n",
    "sentimen_counts = y_train_resampled_series.value_counts()\n",
    "\n",
    "plt.figure(figsize=(5, 3))\n",
    "plt.bar(sentimen_counts.index, sentimen_counts.values, color=['red', 'lightskyblue', 'green'])\n",
    "plt.title('Visualisasi Sentimen Menggunakan SMOTE')\n",
    "plt.xlabel('Sentimen')\n",
    "plt.ylabel('Jumlah')\n",
    "plt.xticks(sentimen_counts.index, ['0', '1', '2'])\n",
    "plt.show()"
   ]
  },
  {
   "cell_type": "code",
   "execution_count": 10,
   "metadata": {},
   "outputs": [
    {
     "name": "stdout",
     "output_type": "stream",
     "text": [
      "Overall accuracy: 0.6666666666666666\n",
      "Overall precision: 0.6512355196187039\n",
      "Overall recall: 0.6666666666666666\n",
      "Overall F1-score: 0.6530653279680962\n",
      "Confusion Matrix : \n",
      " [[ 9  3  2]\n",
      " [ 8  5 16]\n",
      " [ 6 10 76]]\n",
      "-----------------------------------------------------\n",
      "\n",
      "              precision    recall  f1-score   support\n",
      "\n",
      "           0       0.39      0.64      0.49        14\n",
      "           1       0.28      0.17      0.21        29\n",
      "           2       0.81      0.83      0.82        92\n",
      "\n",
      "    accuracy                           0.67       135\n",
      "   macro avg       0.49      0.55      0.51       135\n",
      "weighted avg       0.65      0.67      0.65       135\n",
      "\n"
     ]
    }
   ],
   "source": [
    "# Hitung metrik evaluasi\n",
    "accuracy = accuracy_score(all_true_labels, all_predictions)\n",
    "precision = precision_score(all_true_labels, all_predictions, average='weighted')\n",
    "recall = recall_score(all_true_labels, all_predictions, average='weighted')\n",
    "f1 = f1_score(all_true_labels, all_predictions, average='weighted')\n",
    "\n",
    "# Print hasil\n",
    "print(\"Overall accuracy:\", accuracy)\n",
    "print(\"Overall precision:\", precision)\n",
    "print(\"Overall recall:\", recall)\n",
    "print(\"Overall F1-score:\", f1)\n",
    "\n",
    "print(f'Confusion Matrix : \\n {confusion_matrix(all_true_labels, all_predictions)}')\n",
    "print('-----------------------------------------------------\\n')\n",
    "print(classification_report(all_true_labels, all_predictions, zero_division=0))"
   ]
  },
  {
   "cell_type": "code",
   "execution_count": 15,
   "metadata": {},
   "outputs": [
    {
     "name": "stdout",
     "output_type": "stream",
     "text": [
      "Hasil Analisis Sentimen untuk Teks Baru :  positif\n"
     ]
    }
   ],
   "source": [
    "new_text = input(\"\\nMasukkan teks baru: \")\n",
    "new_text_vec = bow.transform([new_text])\n",
    "predicted_sentimen = mnb.predict(new_text_vec)\n",
    "\n",
    "if predicted_sentimen[0] == 0:\n",
    "    sentiment_label = \"negatif\"\n",
    "elif predicted_sentimen[0] == 1:\n",
    "    sentiment_label = \"netral\"\n",
    "elif predicted_sentimen[0] == 2:\n",
    "    sentiment_label = \"positif\"\n",
    "\n",
    "print(\"Hasil Analisis Sentimen untuk Teks Baru : \", sentiment_label)"
   ]
  }
 ],
 "metadata": {
  "kernelspec": {
   "display_name": "Python 3.9.7 64-bit",
   "language": "python",
   "name": "python3"
  },
  "language_info": {
   "codemirror_mode": {
    "name": "ipython",
    "version": 3
   },
   "file_extension": ".py",
   "mimetype": "text/x-python",
   "name": "python",
   "nbconvert_exporter": "python",
   "pygments_lexer": "ipython3",
   "version": "3.9.7"
  },
  "orig_nbformat": 4,
  "vscode": {
   "interpreter": {
    "hash": "d9013af9292987e25c8fc51c8964e87b073dcbf011589d8bc749c94f550b44c1"
   }
  }
 },
 "nbformat": 4,
 "nbformat_minor": 2
}
