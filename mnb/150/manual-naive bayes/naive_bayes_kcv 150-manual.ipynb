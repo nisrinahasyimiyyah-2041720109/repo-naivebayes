{
 "cells": [
  {
   "cell_type": "code",
   "execution_count": 10,
   "metadata": {},
   "outputs": [
    {
     "data": {
      "text/html": [
       "<div>\n",
       "<style scoped>\n",
       "    .dataframe tbody tr th:only-of-type {\n",
       "        vertical-align: middle;\n",
       "    }\n",
       "\n",
       "    .dataframe tbody tr th {\n",
       "        vertical-align: top;\n",
       "    }\n",
       "\n",
       "    .dataframe thead th {\n",
       "        text-align: right;\n",
       "    }\n",
       "</style>\n",
       "<table border=\"1\" class=\"dataframe\">\n",
       "  <thead>\n",
       "    <tr style=\"text-align: right;\">\n",
       "      <th></th>\n",
       "      <th>No</th>\n",
       "      <th>Data Ulasan</th>\n",
       "      <th>Sentimen</th>\n",
       "    </tr>\n",
       "  </thead>\n",
       "  <tbody>\n",
       "    <tr>\n",
       "      <th>0</th>\n",
       "      <td>1</td>\n",
       "      <td>it  beautiful package bintang buat safety nya</td>\n",
       "      <td>Positif</td>\n",
       "    </tr>\n",
       "    <tr>\n",
       "      <th>1</th>\n",
       "      <td>2</td>\n",
       "      <td>tipe kulitku kering</td>\n",
       "      <td>Netral</td>\n",
       "    </tr>\n",
       "    <tr>\n",
       "      <th>2</th>\n",
       "      <td>3</td>\n",
       "      <td>pengiriman agak lama karena beda provinsi tapi...</td>\n",
       "      <td>Negatif</td>\n",
       "    </tr>\n",
       "    <tr>\n",
       "      <th>3</th>\n",
       "      <td>4</td>\n",
       "      <td>top</td>\n",
       "      <td>Positif</td>\n",
       "    </tr>\n",
       "    <tr>\n",
       "      <th>4</th>\n",
       "      <td>5</td>\n",
       "      <td>tipe kulitku berminyak tipe kulitku kering tip...</td>\n",
       "      <td>Positif</td>\n",
       "    </tr>\n",
       "  </tbody>\n",
       "</table>\n",
       "</div>"
      ],
      "text/plain": [
       "   No                                        Data Ulasan Sentimen\n",
       "0   1      it  beautiful package bintang buat safety nya  Positif\n",
       "1   2                                tipe kulitku kering   Netral\n",
       "2   3  pengiriman agak lama karena beda provinsi tapi...  Negatif\n",
       "3   4                                                top  Positif\n",
       "4   5  tipe kulitku berminyak tipe kulitku kering tip...  Positif"
      ]
     },
     "execution_count": 10,
     "metadata": {},
     "output_type": "execute_result"
    }
   ],
   "source": [
    "# Load data ke dalam data frame \n",
    "import pandas as pd\n",
    "\n",
    "# spesifikasi encoding diperlukan karena data tidak menggunakan UTF-8\n",
    "df = pd.read_csv('dataset-150 - buat yang manual.csv', encoding='latin-1') \n",
    "\n",
    "df.head()"
   ]
  },
  {
   "cell_type": "code",
   "execution_count": 11,
   "metadata": {},
   "outputs": [
    {
     "data": {
      "text/html": [
       "<div>\n",
       "<style scoped>\n",
       "    .dataframe tbody tr th:only-of-type {\n",
       "        vertical-align: middle;\n",
       "    }\n",
       "\n",
       "    .dataframe tbody tr th {\n",
       "        vertical-align: top;\n",
       "    }\n",
       "\n",
       "    .dataframe thead th {\n",
       "        text-align: right;\n",
       "    }\n",
       "</style>\n",
       "<table border=\"1\" class=\"dataframe\">\n",
       "  <thead>\n",
       "    <tr style=\"text-align: right;\">\n",
       "      <th></th>\n",
       "      <th>Data Ulasan</th>\n",
       "      <th>Sentimen</th>\n",
       "    </tr>\n",
       "  </thead>\n",
       "  <tbody>\n",
       "    <tr>\n",
       "      <th>0</th>\n",
       "      <td>it  beautiful package bintang buat safety nya</td>\n",
       "      <td>Positif</td>\n",
       "    </tr>\n",
       "    <tr>\n",
       "      <th>1</th>\n",
       "      <td>tipe kulitku kering</td>\n",
       "      <td>Netral</td>\n",
       "    </tr>\n",
       "    <tr>\n",
       "      <th>2</th>\n",
       "      <td>pengiriman agak lama karena beda provinsi tapi...</td>\n",
       "      <td>Negatif</td>\n",
       "    </tr>\n",
       "    <tr>\n",
       "      <th>3</th>\n",
       "      <td>top</td>\n",
       "      <td>Positif</td>\n",
       "    </tr>\n",
       "    <tr>\n",
       "      <th>4</th>\n",
       "      <td>tipe kulitku berminyak tipe kulitku kering tip...</td>\n",
       "      <td>Positif</td>\n",
       "    </tr>\n",
       "  </tbody>\n",
       "</table>\n",
       "</div>"
      ],
      "text/plain": [
       "                                         Data Ulasan Sentimen\n",
       "0      it  beautiful package bintang buat safety nya  Positif\n",
       "1                                tipe kulitku kering   Netral\n",
       "2  pengiriman agak lama karena beda provinsi tapi...  Negatif\n",
       "3                                                top  Positif\n",
       "4  tipe kulitku berminyak tipe kulitku kering tip...  Positif"
      ]
     },
     "execution_count": 11,
     "metadata": {},
     "output_type": "execute_result"
    }
   ],
   "source": [
    "# Drop kolom pertama dengan fungsi iloc\n",
    "df = df.drop(df.columns[0], axis=1)\n",
    "\n",
    "# Cek data teratas\n",
    "df.head()"
   ]
  },
  {
   "cell_type": "code",
   "execution_count": 12,
   "metadata": {},
   "outputs": [
    {
     "data": {
      "text/html": [
       "<div>\n",
       "<style scoped>\n",
       "    .dataframe tbody tr th:only-of-type {\n",
       "        vertical-align: middle;\n",
       "    }\n",
       "\n",
       "    .dataframe tbody tr th {\n",
       "        vertical-align: top;\n",
       "    }\n",
       "\n",
       "    .dataframe thead th {\n",
       "        text-align: right;\n",
       "    }\n",
       "</style>\n",
       "<table border=\"1\" class=\"dataframe\">\n",
       "  <thead>\n",
       "    <tr style=\"text-align: right;\">\n",
       "      <th></th>\n",
       "      <th>Review</th>\n",
       "      <th>Sentimen</th>\n",
       "    </tr>\n",
       "  </thead>\n",
       "  <tbody>\n",
       "    <tr>\n",
       "      <th>0</th>\n",
       "      <td>it  beautiful package bintang buat safety nya</td>\n",
       "      <td>Positif</td>\n",
       "    </tr>\n",
       "    <tr>\n",
       "      <th>1</th>\n",
       "      <td>tipe kulitku kering</td>\n",
       "      <td>Netral</td>\n",
       "    </tr>\n",
       "    <tr>\n",
       "      <th>2</th>\n",
       "      <td>pengiriman agak lama karena beda provinsi tapi...</td>\n",
       "      <td>Negatif</td>\n",
       "    </tr>\n",
       "    <tr>\n",
       "      <th>3</th>\n",
       "      <td>top</td>\n",
       "      <td>Positif</td>\n",
       "    </tr>\n",
       "    <tr>\n",
       "      <th>4</th>\n",
       "      <td>tipe kulitku berminyak tipe kulitku kering tip...</td>\n",
       "      <td>Positif</td>\n",
       "    </tr>\n",
       "  </tbody>\n",
       "</table>\n",
       "</div>"
      ],
      "text/plain": [
       "                                              Review Sentimen\n",
       "0      it  beautiful package bintang buat safety nya  Positif\n",
       "1                                tipe kulitku kering   Netral\n",
       "2  pengiriman agak lama karena beda provinsi tapi...  Negatif\n",
       "3                                                top  Positif\n",
       "4  tipe kulitku berminyak tipe kulitku kering tip...  Positif"
      ]
     },
     "execution_count": 12,
     "metadata": {},
     "output_type": "execute_result"
    }
   ],
   "source": [
    "# Data untuk rename kolom v1 dan v2\n",
    "new_cols = {\n",
    "    'Data Ulasan' : 'Review'\n",
    "}\n",
    "\n",
    "# Rename nama kolom v1 dan v2\n",
    "df = df.rename(columns=new_cols)\n",
    "\n",
    "# Cek data teratas\n",
    "df.head()"
   ]
  },
  {
   "cell_type": "code",
   "execution_count": 13,
   "metadata": {},
   "outputs": [
    {
     "name": "stdout",
     "output_type": "stream",
     "text": [
      "Netral     72\n",
      "Positif    55\n",
      "Negatif    23\n",
      "Name: Sentimen, dtype: int64\n",
      "\n",
      "\n",
      "<class 'pandas.core.frame.DataFrame'>\n",
      "RangeIndex: 150 entries, 0 to 149\n",
      "Data columns (total 2 columns):\n",
      " #   Column    Non-Null Count  Dtype \n",
      "---  ------    --------------  ----- \n",
      " 0   Review    150 non-null    object\n",
      " 1   Sentimen  150 non-null    object\n",
      "dtypes: object(2)\n",
      "memory usage: 2.5+ KB\n",
      "None\n",
      "\n",
      "\n",
      "                                                   Review Sentimen\n",
      "count                                                 150      150\n",
      "unique                                                135        3\n",
      "top     dari dulu selalu jadi langganan untuk solusi k...   Netral\n",
      "freq                                                    2       72\n"
     ]
    }
   ],
   "source": [
    "# Cek jumlah data per kelas\n",
    "print(df['Sentimen'].value_counts())\n",
    "print('\\n')\n",
    "\n",
    "# Cek kelengkapan data\n",
    "print(df.info())\n",
    "print('\\n')\n",
    "\n",
    "# Cek statistik deskriptif\n",
    "print(df.describe())"
   ]
  },
  {
   "cell_type": "code",
   "execution_count": 14,
   "metadata": {},
   "outputs": [
    {
     "data": {
      "text/html": [
       "<div>\n",
       "<style scoped>\n",
       "    .dataframe tbody tr th:only-of-type {\n",
       "        vertical-align: middle;\n",
       "    }\n",
       "\n",
       "    .dataframe tbody tr th {\n",
       "        vertical-align: top;\n",
       "    }\n",
       "\n",
       "    .dataframe thead th {\n",
       "        text-align: right;\n",
       "    }\n",
       "</style>\n",
       "<table border=\"1\" class=\"dataframe\">\n",
       "  <thead>\n",
       "    <tr style=\"text-align: right;\">\n",
       "      <th></th>\n",
       "      <th>Review</th>\n",
       "      <th>Sentimen</th>\n",
       "    </tr>\n",
       "  </thead>\n",
       "  <tbody>\n",
       "    <tr>\n",
       "      <th>0</th>\n",
       "      <td>it  beautiful package bintang buat safety nya</td>\n",
       "      <td>2</td>\n",
       "    </tr>\n",
       "    <tr>\n",
       "      <th>1</th>\n",
       "      <td>tipe kulitku kering</td>\n",
       "      <td>1</td>\n",
       "    </tr>\n",
       "    <tr>\n",
       "      <th>2</th>\n",
       "      <td>pengiriman agak lama karena beda provinsi tapi...</td>\n",
       "      <td>0</td>\n",
       "    </tr>\n",
       "    <tr>\n",
       "      <th>3</th>\n",
       "      <td>top</td>\n",
       "      <td>2</td>\n",
       "    </tr>\n",
       "    <tr>\n",
       "      <th>4</th>\n",
       "      <td>tipe kulitku berminyak tipe kulitku kering tip...</td>\n",
       "      <td>2</td>\n",
       "    </tr>\n",
       "  </tbody>\n",
       "</table>\n",
       "</div>"
      ],
      "text/plain": [
       "                                              Review  Sentimen\n",
       "0      it  beautiful package bintang buat safety nya         2\n",
       "1                                tipe kulitku kering         1\n",
       "2  pengiriman agak lama karena beda provinsi tapi...         0\n",
       "3                                                top         2\n",
       "4  tipe kulitku berminyak tipe kulitku kering tip...         2"
      ]
     },
     "execution_count": 14,
     "metadata": {},
     "output_type": "execute_result"
    }
   ],
   "source": [
    "# Data untuk label\n",
    "new_labels = {\n",
    "    'Negatif' : 0,\n",
    "    'Netral' : 1,\n",
    "    'Positif' : 2\n",
    "}\n",
    "\n",
    "# Encode label (mengubah label dari spam dan ham menjadi 1 dan 0)\n",
    "df['Sentimen'] = df['Sentimen'].map(new_labels)\n",
    "\n",
    "# Cek data teratas\n",
    "df.head()"
   ]
  },
  {
   "cell_type": "code",
   "execution_count": 15,
   "metadata": {},
   "outputs": [
    {
     "data": {
      "image/png": "[encoded data removed]",
      "text/plain": [
       "<Figure size 360x216 with 1 Axes>"
      ]
     },
     "metadata": {
      "needs_background": "light"
     },
     "output_type": "display_data"
    }
   ],
   "source": [
    "import seaborn as sns\n",
    "import matplotlib.pyplot as plt\n",
    "\n",
    "# visualisasi sentimen positif, netral, dan negatif\n",
    "plt.figure(figsize=(5, 3))\n",
    "sns.countplot(data=df, x='Sentimen', palette={0: 'red', 1: 'lightskyblue', 2: 'green'})\n",
    "plt.title('Visualisasi Sentimen Negatif, Netral, Positif')\n",
    "plt.xlabel('Sentimen')\n",
    "plt.ylabel('Jumlah')\n",
    "plt.show()"
   ]
  },
  {
   "cell_type": "code",
   "execution_count": 16,
   "metadata": {},
   "outputs": [],
   "source": [
    "# Memisahkan fitur dengan label\n",
    "X = df['Review'].values\n",
    "y = df['Sentimen'].values"
   ]
  },
  {
   "cell_type": "code",
   "execution_count": 17,
   "metadata": {},
   "outputs": [],
   "source": [
    "# Ekstraksi fitur\n",
    "from sklearn.model_selection import StratifiedKFold\n",
    "from sklearn.metrics import accuracy_score, precision_score, recall_score, f1_score\n",
    "from sklearn.feature_extraction.text import TfidfVectorizer\n",
    "from sklearn.naive_bayes import MultinomialNB\n",
    "import numpy as np\n",
    "from sklearn.metrics import classification_report, confusion_matrix\n",
    "from imblearn.over_sampling import SMOTE\n",
    "\n",
    "# Inisialisasi model\n",
    "mnb = MultinomialNB()\n",
    "\n",
    "# Membuat objek StratifiedKFold untuk 10-fold cross-validation\n",
    "skf = StratifiedKFold(n_splits=10, shuffle=True, random_state=42)\n",
    "\n",
    "# Inisialisasi TfidfVectorizer\n",
    "bow = TfidfVectorizer(max_features=510)\n",
    "\n",
    "\n",
    "# List untuk menyimpan prediksi dan label sebenarnya dari setiap lipatan\n",
    "all_predictions = []\n",
    "all_true_labels = []\n",
    "\n",
    "# Loop melalui setiap lipatan (fold) dalam cross-validation\n",
    "for train_index, test_index in skf.split(X, y):\n",
    "    X_train, X_test = X[train_index], X[test_index]  # Data latih dan uji\n",
    "    y_train, y_test = y[train_index], y[test_index]  # Label data latih dan uji\n",
    "\n",
    "    # Transformasi seluruh data menggunakan TfidfVectorizer\n",
    "    X_train_transform = bow.fit_transform(X_train)\n",
    "    X_test_transform = bow.transform(X_test)\n",
    "\n",
    "    # Melatih model klasifikasi pada data latih\n",
    "    mnb.fit(X_train_transform, y_train)\n",
    "\n",
    "    # Membuat prediksi pada data uji\n",
    "    predictions = mnb.predict(X_test_transform)\n",
    "\n",
    "    # Menambahkan prediksi dan label sebenarnya ke dalam list\n",
    "    all_predictions.extend(predictions)\n",
    "    all_true_labels.extend(y_test)"
   ]
  },
  {
   "cell_type": "code",
   "execution_count": 18,
   "metadata": {},
   "outputs": [
    {
     "name": "stdout",
     "output_type": "stream",
     "text": [
      "Overall accuracy: 0.4533333333333333\n",
      "Overall precision: 0.37565749235474005\n",
      "Overall recall: 0.4533333333333333\n",
      "Overall F1-score: 0.3993098769022003\n",
      "Confusion Matrix : \n",
      " [[ 0 18  5]\n",
      " [ 1 52 19]\n",
      " [ 0 39 16]]\n",
      "-----------------------------------------------------\n",
      "\n",
      "              precision    recall  f1-score   support\n",
      "\n",
      "           0       0.00      0.00      0.00        23\n",
      "           1       0.48      0.72      0.57        72\n",
      "           2       0.40      0.29      0.34        55\n",
      "\n",
      "    accuracy                           0.45       150\n",
      "   macro avg       0.29      0.34      0.30       150\n",
      "weighted avg       0.38      0.45      0.40       150\n",
      "\n"
     ]
    }
   ],
   "source": [
    "# Hitung metrik evaluasi\n",
    "accuracy = accuracy_score(all_true_labels, all_predictions)\n",
    "precision = precision_score(all_true_labels, all_predictions, average='weighted')\n",
    "recall = recall_score(all_true_labels, all_predictions, average='weighted')\n",
    "f1 = f1_score(all_true_labels, all_predictions, average='weighted')\n",
    "\n",
    "# Print hasil\n",
    "print(\"Overall accuracy:\", accuracy)\n",
    "print(\"Overall precision:\", precision)\n",
    "print(\"Overall recall:\", recall)\n",
    "print(\"Overall F1-score:\", f1)\n",
    "\n",
    "print(f'Confusion Matrix : \\n {confusion_matrix(all_true_labels, all_predictions)}')\n",
    "print('-----------------------------------------------------\\n')\n",
    "print(classification_report(all_true_labels, all_predictions, zero_division=0))"
   ]
  },
  {
   "cell_type": "code",
   "execution_count": 11,
   "metadata": {},
   "outputs": [
    {
     "name": "stdout",
     "output_type": "stream",
     "text": [
      "Hasil Analisis Sentimen untuk Teks Baru :  netral\n"
     ]
    }
   ],
   "source": [
    "new_text = input(\"\\nMasukkan teks baru: \")\n",
    "new_text_vec = bow.transform([new_text])\n",
    "predicted_sentimen = mnb.predict(new_text_vec)\n",
    "\n",
    "if predicted_sentimen[0] == 0:\n",
    "    sentiment_label = \"negatif\"\n",
    "elif predicted_sentimen[0] == 1:\n",
    "    sentiment_label = \"netral\"\n",
    "elif predicted_sentimen[0] == 2:\n",
    "    sentiment_label = \"positif\"\n",
    "\n",
    "print(\"Hasil Analisis Sentimen untuk Teks Baru : \", sentiment_label)"
   ]
  }
 ],
 "metadata": {
  "kernelspec": {
   "display_name": "Python 3.9.7 64-bit",
   "language": "python",
   "name": "python3"
  },
  "language_info": {
   "codemirror_mode": {
    "name": "ipython",
    "version": 3
   },
   "file_extension": ".py",
   "mimetype": "text/x-python",
   "name": "python",
   "nbconvert_exporter": "python",
   "pygments_lexer": "ipython3",
   "version": "3.9.7"
  },
  "orig_nbformat": 4,
  "vscode": {
   "interpreter": {
    "hash": "d9013af9292987e25c8fc51c8964e87b073dcbf011589d8bc749c94f550b44c1"
   }
  }
 },
 "nbformat": 4,
 "nbformat_minor": 2
}
