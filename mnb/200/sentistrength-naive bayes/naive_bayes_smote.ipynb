{
 "cells": [
  {
   "cell_type": "code",
   "execution_count": 1,
   "metadata": {},
   "outputs": [
    {
     "data": {
      "text/html": [
       "<div>\n",
       "<style scoped>\n",
       "    .dataframe tbody tr th:only-of-type {\n",
       "        vertical-align: middle;\n",
       "    }\n",
       "\n",
       "    .dataframe tbody tr th {\n",
       "        vertical-align: top;\n",
       "    }\n",
       "\n",
       "    .dataframe thead th {\n",
       "        text-align: right;\n",
       "    }\n",
       "</style>\n",
       "<table border=\"1\" class=\"dataframe\">\n",
       "  <thead>\n",
       "    <tr style=\"text-align: right;\">\n",
       "      <th></th>\n",
       "      <th>review_tokens_stemmed</th>\n",
       "      <th>sentimen</th>\n",
       "      <th>classified_text</th>\n",
       "      <th>tweet_text</th>\n",
       "      <th>sentence_score</th>\n",
       "      <th>max_positive</th>\n",
       "      <th>max_negative</th>\n",
       "      <th>kelas</th>\n",
       "    </tr>\n",
       "  </thead>\n",
       "  <tbody>\n",
       "    <tr>\n",
       "      <th>0</th>\n",
       "      <td>kulit kerut</td>\n",
       "      <td>{'classified_text': 'kulit kerut [-2]', 'tweet...</td>\n",
       "      <td>kulit kerut [-2]</td>\n",
       "      <td>kulit kerut</td>\n",
       "      <td>['kulit kerut [-2]']</td>\n",
       "      <td>1</td>\n",
       "      <td>-2</td>\n",
       "      <td>negatif</td>\n",
       "    </tr>\n",
       "    <tr>\n",
       "      <th>1</th>\n",
       "      <td>tipe kulit kering</td>\n",
       "      <td>{'classified_text': 'tipe kulit kering', 'twee...</td>\n",
       "      <td>tipe kulit kering</td>\n",
       "      <td>tipe kulit kering</td>\n",
       "      <td>['tipe kulit kering']</td>\n",
       "      <td>1</td>\n",
       "      <td>-1</td>\n",
       "      <td>netral</td>\n",
       "    </tr>\n",
       "    <tr>\n",
       "      <th>2</th>\n",
       "      <td>bagus banget lip tint nya warna bagus kemas ge...</td>\n",
       "      <td>{'classified_text': 'bagus [5] banget lip tint...</td>\n",
       "      <td>bagus [5] banget lip tint nya warna bagus [4] ...</td>\n",
       "      <td>bagus banget lip tint nya warna bagus kemas g...</td>\n",
       "      <td>['bagus [5] banget lip tint nya warna bagus [4...</td>\n",
       "      <td>5</td>\n",
       "      <td>-1</td>\n",
       "      <td>positif</td>\n",
       "    </tr>\n",
       "    <tr>\n",
       "      <th>3</th>\n",
       "      <td>expire kirim cepat cocok guna sesuai instruksi</td>\n",
       "      <td>{'classified_text': 'expire kirim cepat [4] co...</td>\n",
       "      <td>expire kirim cepat [4] cocok [4] guna sesuai [...</td>\n",
       "      <td>expire kirim cepat cocok guna sesuai instruksi</td>\n",
       "      <td>['expire kirim cepat [4] cocok [4] guna sesuai...</td>\n",
       "      <td>4</td>\n",
       "      <td>-1</td>\n",
       "      <td>positif</td>\n",
       "    </tr>\n",
       "    <tr>\n",
       "      <th>4</th>\n",
       "      <td>no review found</td>\n",
       "      <td>{'classified_text': 'no review found', 'tweet_...</td>\n",
       "      <td>no review found</td>\n",
       "      <td>no review found</td>\n",
       "      <td>['no review found']</td>\n",
       "      <td>1</td>\n",
       "      <td>-1</td>\n",
       "      <td>netral</td>\n",
       "    </tr>\n",
       "  </tbody>\n",
       "</table>\n",
       "</div>"
      ],
      "text/plain": [
       "                               review_tokens_stemmed  \\\n",
       "0                                        kulit kerut   \n",
       "1                                  tipe kulit kering   \n",
       "2  bagus banget lip tint nya warna bagus kemas ge...   \n",
       "3     expire kirim cepat cocok guna sesuai instruksi   \n",
       "4                                    no review found   \n",
       "\n",
       "                                            sentimen  \\\n",
       "0  {'classified_text': 'kulit kerut [-2]', 'tweet...   \n",
       "1  {'classified_text': 'tipe kulit kering', 'twee...   \n",
       "2  {'classified_text': 'bagus [5] banget lip tint...   \n",
       "3  {'classified_text': 'expire kirim cepat [4] co...   \n",
       "4  {'classified_text': 'no review found', 'tweet_...   \n",
       "\n",
       "                                     classified_text  \\\n",
       "0                                   kulit kerut [-2]   \n",
       "1                                  tipe kulit kering   \n",
       "2  bagus [5] banget lip tint nya warna bagus [4] ...   \n",
       "3  expire kirim cepat [4] cocok [4] guna sesuai [...   \n",
       "4                                    no review found   \n",
       "\n",
       "                                          tweet_text  \\\n",
       "0                                        kulit kerut   \n",
       "1                                  tipe kulit kering   \n",
       "2   bagus banget lip tint nya warna bagus kemas g...   \n",
       "3     expire kirim cepat cocok guna sesuai instruksi   \n",
       "4                                    no review found   \n",
       "\n",
       "                                      sentence_score  max_positive  \\\n",
       "0                               ['kulit kerut [-2]']             1   \n",
       "1                              ['tipe kulit kering']             1   \n",
       "2  ['bagus [5] banget lip tint nya warna bagus [4...             5   \n",
       "3  ['expire kirim cepat [4] cocok [4] guna sesuai...             4   \n",
       "4                                ['no review found']             1   \n",
       "\n",
       "   max_negative    kelas  \n",
       "0            -2  negatif  \n",
       "1            -1   netral  \n",
       "2            -1  positif  \n",
       "3            -1  positif  \n",
       "4            -1   netral  "
      ]
     },
     "execution_count": 1,
     "metadata": {},
     "output_type": "execute_result"
    }
   ],
   "source": [
    "# Load data ke dalam data frame \n",
    "import pandas as pd\n",
    "\n",
    "# spesifikasi encoding diperlukan karena data tidak menggunakan UTF-8\n",
    "df = pd.read_csv('allreview_clean.csv', encoding='latin-1') \n",
    "\n",
    "df.head()"
   ]
  },
  {
   "cell_type": "code",
   "execution_count": 2,
   "metadata": {},
   "outputs": [
    {
     "data": {
      "text/html": [
       "<div>\n",
       "<style scoped>\n",
       "    .dataframe tbody tr th:only-of-type {\n",
       "        vertical-align: middle;\n",
       "    }\n",
       "\n",
       "    .dataframe tbody tr th {\n",
       "        vertical-align: top;\n",
       "    }\n",
       "\n",
       "    .dataframe thead th {\n",
       "        text-align: right;\n",
       "    }\n",
       "</style>\n",
       "<table border=\"1\" class=\"dataframe\">\n",
       "  <thead>\n",
       "    <tr style=\"text-align: right;\">\n",
       "      <th></th>\n",
       "      <th>review_tokens_stemmed</th>\n",
       "      <th>kelas</th>\n",
       "    </tr>\n",
       "  </thead>\n",
       "  <tbody>\n",
       "    <tr>\n",
       "      <th>0</th>\n",
       "      <td>kulit kerut</td>\n",
       "      <td>negatif</td>\n",
       "    </tr>\n",
       "    <tr>\n",
       "      <th>1</th>\n",
       "      <td>tipe kulit kering</td>\n",
       "      <td>netral</td>\n",
       "    </tr>\n",
       "    <tr>\n",
       "      <th>2</th>\n",
       "      <td>bagus banget lip tint nya warna bagus kemas ge...</td>\n",
       "      <td>positif</td>\n",
       "    </tr>\n",
       "    <tr>\n",
       "      <th>3</th>\n",
       "      <td>expire kirim cepat cocok guna sesuai instruksi</td>\n",
       "      <td>positif</td>\n",
       "    </tr>\n",
       "    <tr>\n",
       "      <th>4</th>\n",
       "      <td>no review found</td>\n",
       "      <td>netral</td>\n",
       "    </tr>\n",
       "  </tbody>\n",
       "</table>\n",
       "</div>"
      ],
      "text/plain": [
       "                               review_tokens_stemmed    kelas\n",
       "0                                        kulit kerut  negatif\n",
       "1                                  tipe kulit kering   netral\n",
       "2  bagus banget lip tint nya warna bagus kemas ge...  positif\n",
       "3     expire kirim cepat cocok guna sesuai instruksi  positif\n",
       "4                                    no review found   netral"
      ]
     },
     "execution_count": 2,
     "metadata": {},
     "output_type": "execute_result"
    }
   ],
   "source": [
    "# Drop 3 kolom terakhir yang tidak digunakan dengan fungsi iloc\n",
    "df = df.drop(df.iloc[:,1:7], axis=1)\n",
    "\n",
    "# Cek data teratas\n",
    "df.head()"
   ]
  },
  {
   "cell_type": "code",
   "execution_count": 3,
   "metadata": {},
   "outputs": [
    {
     "data": {
      "text/html": [
       "<div>\n",
       "<style scoped>\n",
       "    .dataframe tbody tr th:only-of-type {\n",
       "        vertical-align: middle;\n",
       "    }\n",
       "\n",
       "    .dataframe tbody tr th {\n",
       "        vertical-align: top;\n",
       "    }\n",
       "\n",
       "    .dataframe thead th {\n",
       "        text-align: right;\n",
       "    }\n",
       "</style>\n",
       "<table border=\"1\" class=\"dataframe\">\n",
       "  <thead>\n",
       "    <tr style=\"text-align: right;\">\n",
       "      <th></th>\n",
       "      <th>Review</th>\n",
       "      <th>Sentiment</th>\n",
       "    </tr>\n",
       "  </thead>\n",
       "  <tbody>\n",
       "    <tr>\n",
       "      <th>0</th>\n",
       "      <td>kulit kerut</td>\n",
       "      <td>negatif</td>\n",
       "    </tr>\n",
       "    <tr>\n",
       "      <th>1</th>\n",
       "      <td>tipe kulit kering</td>\n",
       "      <td>netral</td>\n",
       "    </tr>\n",
       "    <tr>\n",
       "      <th>2</th>\n",
       "      <td>bagus banget lip tint nya warna bagus kemas ge...</td>\n",
       "      <td>positif</td>\n",
       "    </tr>\n",
       "    <tr>\n",
       "      <th>3</th>\n",
       "      <td>expire kirim cepat cocok guna sesuai instruksi</td>\n",
       "      <td>positif</td>\n",
       "    </tr>\n",
       "    <tr>\n",
       "      <th>4</th>\n",
       "      <td>no review found</td>\n",
       "      <td>netral</td>\n",
       "    </tr>\n",
       "  </tbody>\n",
       "</table>\n",
       "</div>"
      ],
      "text/plain": [
       "                                              Review Sentiment\n",
       "0                                        kulit kerut   negatif\n",
       "1                                  tipe kulit kering    netral\n",
       "2  bagus banget lip tint nya warna bagus kemas ge...   positif\n",
       "3     expire kirim cepat cocok guna sesuai instruksi   positif\n",
       "4                                    no review found    netral"
      ]
     },
     "execution_count": 3,
     "metadata": {},
     "output_type": "execute_result"
    }
   ],
   "source": [
    "# Data untuk rename kolom v1 dan v2\n",
    "new_cols = {\n",
    "    'review_tokens_stemmed' : 'Review',\n",
    "    'kelas' : 'Sentiment'\n",
    "}\n",
    "\n",
    "# Rename nama kolom v1 dan v2\n",
    "df = df.rename(columns=new_cols)\n",
    "\n",
    "# Cek data teratas\n",
    "df.head()"
   ]
  },
  {
   "cell_type": "code",
   "execution_count": 4,
   "metadata": {},
   "outputs": [
    {
     "name": "stdout",
     "output_type": "stream",
     "text": [
      "positif    1129\n",
      "netral      358\n",
      "negatif     133\n",
      "Name: Sentiment, dtype: int64\n",
      "\n",
      "\n",
      "<class 'pandas.core.frame.DataFrame'>\n",
      "RangeIndex: 1620 entries, 0 to 1619\n",
      "Data columns (total 2 columns):\n",
      " #   Column     Non-Null Count  Dtype \n",
      "---  ------     --------------  ----- \n",
      " 0   Review     1620 non-null   object\n",
      " 1   Sentiment  1620 non-null   object\n",
      "dtypes: object(2)\n",
      "memory usage: 25.4+ KB\n",
      "None\n",
      "\n",
      "\n",
      "                 Review Sentiment\n",
      "count              1620      1620\n",
      "unique             1499         3\n",
      "top     coba moga cocok   positif\n",
      "freq                 16      1129\n"
     ]
    }
   ],
   "source": [
    "# Cek jumlah data per kelas\n",
    "print(df['Sentiment'].value_counts())\n",
    "print('\\n')\n",
    "\n",
    "# Cek kelengkapan data\n",
    "print(df.info())\n",
    "print('\\n')\n",
    "\n",
    "# Cek statistik deskriptif\n",
    "print(df.describe())"
   ]
  },
  {
   "cell_type": "code",
   "execution_count": 5,
   "metadata": {},
   "outputs": [
    {
     "data": {
      "text/html": [
       "<div>\n",
       "<style scoped>\n",
       "    .dataframe tbody tr th:only-of-type {\n",
       "        vertical-align: middle;\n",
       "    }\n",
       "\n",
       "    .dataframe tbody tr th {\n",
       "        vertical-align: top;\n",
       "    }\n",
       "\n",
       "    .dataframe thead th {\n",
       "        text-align: right;\n",
       "    }\n",
       "</style>\n",
       "<table border=\"1\" class=\"dataframe\">\n",
       "  <thead>\n",
       "    <tr style=\"text-align: right;\">\n",
       "      <th></th>\n",
       "      <th>Review</th>\n",
       "      <th>Sentiment</th>\n",
       "    </tr>\n",
       "  </thead>\n",
       "  <tbody>\n",
       "    <tr>\n",
       "      <th>0</th>\n",
       "      <td>kulit kerut</td>\n",
       "      <td>0</td>\n",
       "    </tr>\n",
       "    <tr>\n",
       "      <th>1</th>\n",
       "      <td>tipe kulit kering</td>\n",
       "      <td>1</td>\n",
       "    </tr>\n",
       "    <tr>\n",
       "      <th>2</th>\n",
       "      <td>bagus banget lip tint nya warna bagus kemas ge...</td>\n",
       "      <td>2</td>\n",
       "    </tr>\n",
       "    <tr>\n",
       "      <th>3</th>\n",
       "      <td>expire kirim cepat cocok guna sesuai instruksi</td>\n",
       "      <td>2</td>\n",
       "    </tr>\n",
       "    <tr>\n",
       "      <th>4</th>\n",
       "      <td>no review found</td>\n",
       "      <td>1</td>\n",
       "    </tr>\n",
       "  </tbody>\n",
       "</table>\n",
       "</div>"
      ],
      "text/plain": [
       "                                              Review  Sentiment\n",
       "0                                        kulit kerut          0\n",
       "1                                  tipe kulit kering          1\n",
       "2  bagus banget lip tint nya warna bagus kemas ge...          2\n",
       "3     expire kirim cepat cocok guna sesuai instruksi          2\n",
       "4                                    no review found          1"
      ]
     },
     "execution_count": 5,
     "metadata": {},
     "output_type": "execute_result"
    }
   ],
   "source": [
    "# Data untuk label\n",
    "new_labels = {\n",
    "    'negatif' : 0,\n",
    "    'netral' : 1,\n",
    "    'positif' : 2\n",
    "}\n",
    "\n",
    "# Encode label (mengubah label dari spam dan ham menjadi 1 dan 0)\n",
    "df['Sentiment'] = df['Sentiment'].map(new_labels)\n",
    "\n",
    "# Cek data teratas\n",
    "df.head()"
   ]
  },
  {
   "cell_type": "code",
   "execution_count": 7,
   "metadata": {},
   "outputs": [
    {
     "data": {
      "image/png": "[encoded data removed]",
      "text/plain": [
       "<Figure size 360x216 with 1 Axes>"
      ]
     },
     "metadata": {
      "needs_background": "light"
     },
     "output_type": "display_data"
    }
   ],
   "source": [
    "import seaborn as sns\n",
    "import matplotlib.pyplot as plt\n",
    "\n",
    "# visualisasi sentimen positif, netral, dan negatif\n",
    "plt.figure(figsize=(5, 3))\n",
    "sns.countplot(data=df, x='Sentiment', palette={0: 'red', 1: 'lightskyblue', 2: 'green'})\n",
    "plt.title('Visualisasi Sentimen Negatif, Netral, Positif')\n",
    "plt.xlabel('Sentimen')\n",
    "plt.ylabel('Jumlah')\n",
    "plt.show()"
   ]
  },
  {
   "cell_type": "code",
   "execution_count": 8,
   "metadata": {},
   "outputs": [],
   "source": [
    "# Memisahkan fitur dengan label\n",
    "X = df['Review'].values\n",
    "y = df['Sentiment'].values"
   ]
  },
  {
   "cell_type": "code",
   "execution_count": 9,
   "metadata": {},
   "outputs": [],
   "source": [
    "# Ekstraksi fitur\n",
    "from sklearn.model_selection import train_test_split\n",
    "from sklearn.feature_extraction.text import TfidfVectorizer\n",
    "\n",
    "# Split data training dan data testing\n",
    "X_train, X_test, y_train, y_test = train_test_split(X, y, test_size=0.2, random_state=42)\n",
    "\n",
    "# Inisiasi TfidfVectorizer\n",
    "bow = TfidfVectorizer(max_features=510)\n",
    "\n",
    "# Fitting dan transform X_train dengan CountVectorizer\n",
    "X_train = bow.fit_transform(X_train)\n",
    "\n",
    "# Transform X_test\n",
    "# X_test hanya transform (bukan fit_transform) karena agar model tidak mengetahui parameter yang \n",
    "# digunakan oleh CountVectorizer untuk fitting data X_test\n",
    "# sehingga data testing tetap menjadi data yang asing bagi model\n",
    "X_test = bow.transform(X_test)"
   ]
  },
  {
   "cell_type": "code",
   "execution_count": 10,
   "metadata": {},
   "outputs": [],
   "source": [
    "from imblearn.over_sampling import SMOTE\n",
    "smote = SMOTE(random_state=42)\n",
    "X_train_resampled, y_train_resampled = smote.fit_resample(X_train, y_train)"
   ]
  },
  {
   "cell_type": "code",
   "execution_count": 12,
   "metadata": {},
   "outputs": [
    {
     "data": {
      "image/png": "[encoded data removed]",
      "text/plain": [
       "<Figure size 360x216 with 1 Axes>"
      ]
     },
     "metadata": {
      "needs_background": "light"
     },
     "output_type": "display_data"
    }
   ],
   "source": [
    "# visualisasi hasil resampling\n",
    "# Convert NumPy array to pandas Series\n",
    "y_train_resampled_series = pd.Series(y_train_resampled)\n",
    "\n",
    "# Visualisasi hasil resampling\n",
    "sentimen_counts = y_train_resampled_series.value_counts()\n",
    "\n",
    "plt.figure(figsize=(5, 3))\n",
    "plt.bar(sentimen_counts.index, sentimen_counts.values, color=['red', 'lightskyblue', 'green'])\n",
    "plt.title('Visualisasi Sentimen Menggunakan SMOTE')\n",
    "plt.xlabel('Sentimen')\n",
    "plt.ylabel('Jumlah')\n",
    "plt.xticks(sentimen_counts.index, ['0', '1', '2'])\n",
    "plt.show()"
   ]
  },
  {
   "cell_type": "code",
   "execution_count": 13,
   "metadata": {},
   "outputs": [
    {
     "name": "stdout",
     "output_type": "stream",
     "text": [
      "Accuracy :  0.7253086419753086\n",
      "Precision :  0.7510129861662429\n",
      "Recall :  0.7253086419753086\n",
      "F1 Score :  0.7283955923518826\n",
      "Confusion Matrix : \n",
      " [[ 17   7   3]\n",
      " [ 25  22  23]\n",
      " [ 16  15 196]]\n",
      "-----------------------------------------------------\n",
      "\n",
      "              precision    recall  f1-score   support\n",
      "\n",
      "     negatif       0.29      0.63      0.40        27\n",
      "      netral       0.50      0.31      0.39        70\n",
      "     positif       0.88      0.86      0.87       227\n",
      "\n",
      "    accuracy                           0.73       324\n",
      "   macro avg       0.56      0.60      0.55       324\n",
      "weighted avg       0.75      0.73      0.73       324\n",
      "\n"
     ]
    }
   ],
   "source": [
    "# Training dan evaluasi model\n",
    "# menggunakan algoritma Multinomial Naive Bayes (fungsi MultinomialNB dari scikit-learn)\n",
    "from sklearn.naive_bayes import MultinomialNB\n",
    "from sklearn.metrics import accuracy_score, precision_score, recall_score, f1_score\n",
    "from sklearn.metrics import classification_report\n",
    "from sklearn.metrics import confusion_matrix\n",
    "\n",
    "# Fit Model ke MultinomialNB\n",
    "mnb = MultinomialNB().fit(X_train_resampled, y_train_resampled)\n",
    "\n",
    "# Prediksi dengan data testing\n",
    "predicted = mnb.predict(X_test)\n",
    "\n",
    "# Print hasil evaluasi\n",
    "print('Accuracy : ', accuracy_score(y_test, predicted))\n",
    "print('Precision : ', precision_score(y_test, predicted, average='weighted'))\n",
    "print('Recall : ', recall_score(y_test, predicted, average='weighted'))\n",
    "print('F1 Score : ', f1_score(y_test, predicted, average='weighted'))\n",
    "\n",
    "print(f'Confusion Matrix : \\n {confusion_matrix(y_test, predicted)}')\n",
    "print('-----------------------------------------------------\\n')\n",
    "print(classification_report(y_test, predicted, target_names=['negatif', 'netral', 'positif'], zero_division=0))"
   ]
  },
  {
   "cell_type": "code",
   "execution_count": 14,
   "metadata": {},
   "outputs": [
    {
     "name": "stdout",
     "output_type": "stream",
     "text": [
      "HEATMAP\n"
     ]
    },
    {
     "data": {
      "image/png": "[encoded data removed]",
      "text/plain": [
       "<Figure size 576x360 with 2 Axes>"
      ]
     },
     "metadata": {
      "needs_background": "light"
     },
     "output_type": "display_data"
    }
   ],
   "source": [
    "import seaborn as sns\n",
    "import matplotlib.pyplot as plt\n",
    "from sklearn import metrics\n",
    "\n",
    "f, ax = plt.subplots(figsize=(8,5))\n",
    "sns.heatmap(metrics.confusion_matrix(y_test, predicted), annot=True, fmt=\".0f\", ax=ax)\n",
    "print(\"HEATMAP\")\n",
    "plt.xlabel(\"Predicted Class\")\n",
    "plt.ylabel(\"True Class\")\n",
    "plt.show()"
   ]
  },
  {
   "cell_type": "code",
   "execution_count": 19,
   "metadata": {},
   "outputs": [
    {
     "name": "stdout",
     "output_type": "stream",
     "text": [
      "Hasil Analisis Sentimen untuk Teks Baru :  negatif\n"
     ]
    }
   ],
   "source": [
    "new_text = input(\"\\nMasukkan teks baru: \")\n",
    "new_text_vec = bow.transform([new_text])\n",
    "predicted_sentimen = mnb.predict(new_text_vec)\n",
    "\n",
    "if predicted_sentimen[0] == 0:\n",
    "    sentiment_label = \"negatif\"\n",
    "elif predicted_sentimen[0] == 1:\n",
    "    sentiment_label = \"netral\"\n",
    "elif predicted_sentimen[0] == 2:\n",
    "    sentiment_label = \"positif\"\n",
    "\n",
    "print(\"Hasil Analisis Sentimen untuk Teks Baru : \", sentiment_label)"
   ]
  }
 ],
 "metadata": {
  "kernelspec": {
   "display_name": "Python 3.9.7 64-bit",
   "language": "python",
   "name": "python3"
  },
  "language_info": {
   "codemirror_mode": {
    "name": "ipython",
    "version": 3
   },
   "file_extension": ".py",
   "mimetype": "text/x-python",
   "name": "python",
   "nbconvert_exporter": "python",
   "pygments_lexer": "ipython3",
   "version": "3.9.7"
  },
  "orig_nbformat": 4,
  "vscode": {
   "interpreter": {
    "hash": "d9013af9292987e25c8fc51c8964e87b073dcbf011589d8bc749c94f550b44c1"
   }
  }
 },
 "nbformat": 4,
 "nbformat_minor": 2
}
