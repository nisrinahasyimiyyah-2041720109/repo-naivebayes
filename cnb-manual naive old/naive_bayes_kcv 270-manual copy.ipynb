{
 "cells": [
  {
   "cell_type": "code",
   "execution_count": 28,
   "metadata": {},
   "outputs": [
    {
     "data": {
      "text/html": [
       "<div>\n",
       "<style scoped>\n",
       "    .dataframe tbody tr th:only-of-type {\n",
       "        vertical-align: middle;\n",
       "    }\n",
       "\n",
       "    .dataframe tbody tr th {\n",
       "        vertical-align: top;\n",
       "    }\n",
       "\n",
       "    .dataframe thead th {\n",
       "        text-align: right;\n",
       "    }\n",
       "</style>\n",
       "<table border=\"1\" class=\"dataframe\">\n",
       "  <thead>\n",
       "    <tr style=\"text-align: right;\">\n",
       "      <th></th>\n",
       "      <th>Review</th>\n",
       "      <th>Sentimen</th>\n",
       "    </tr>\n",
       "  </thead>\n",
       "  <tbody>\n",
       "    <tr>\n",
       "      <th>0</th>\n",
       "      <td>Kecewa banget. Saya pesan yang free pouch tapi...</td>\n",
       "      <td>Negatif</td>\n",
       "    </tr>\n",
       "    <tr>\n",
       "      <th>1</th>\n",
       "      <td>Kali ini pengemasan tidak safe,, sepertinya tu...</td>\n",
       "      <td>Negatif</td>\n",
       "    </tr>\n",
       "    <tr>\n",
       "      <th>2</th>\n",
       "      <td>paket datangnya barang sudah pecah dan sy retu...</td>\n",
       "      <td>Negatif</td>\n",
       "    </tr>\n",
       "    <tr>\n",
       "      <th>3</th>\n",
       "      <td>ga ada sabun nya, ga sesuai deskripsi</td>\n",
       "      <td>Negatif</td>\n",
       "    </tr>\n",
       "    <tr>\n",
       "      <th>4</th>\n",
       "      <td>ga sesuai harapan</td>\n",
       "      <td>Negatif</td>\n",
       "    </tr>\n",
       "  </tbody>\n",
       "</table>\n",
       "</div>"
      ],
      "text/plain": [
       "                                              Review Sentimen\n",
       "0  Kecewa banget. Saya pesan yang free pouch tapi...  Negatif\n",
       "1  Kali ini pengemasan tidak safe,, sepertinya tu...  Negatif\n",
       "2  paket datangnya barang sudah pecah dan sy retu...  Negatif\n",
       "3              ga ada sabun nya, ga sesuai deskripsi  Negatif\n",
       "4                                  ga sesuai harapan  Negatif"
      ]
     },
     "execution_count": 28,
     "metadata": {},
     "output_type": "execute_result"
    }
   ],
   "source": [
    "# Load data ke dalam data frame \n",
    "import pandas as pd\n",
    "\n",
    "# spesifikasi encoding diperlukan karena data tidak menggunakan UTF-8\n",
    "df = pd.read_csv('dataset gabungan-270.csv', encoding='latin-1') \n",
    "\n",
    "df.head()"
   ]
  },
  {
   "cell_type": "code",
   "execution_count": 29,
   "metadata": {},
   "outputs": [
    {
     "name": "stdout",
     "output_type": "stream",
     "text": [
      "Positif    98\n",
      "Netral     93\n",
      "Negatif    79\n",
      "Name: Sentimen, dtype: int64\n",
      "\n",
      "\n",
      "<class 'pandas.core.frame.DataFrame'>\n",
      "RangeIndex: 270 entries, 0 to 269\n",
      "Data columns (total 2 columns):\n",
      " #   Column    Non-Null Count  Dtype \n",
      "---  ------    --------------  ----- \n",
      " 0   Review    270 non-null    object\n",
      " 1   Sentimen  270 non-null    object\n",
      "dtypes: object(2)\n",
      "memory usage: 4.3+ KB\n",
      "None\n",
      "\n",
      "\n",
      "                 Review Sentimen\n",
      "count               270      270\n",
      "unique              248        3\n",
      "top     No review found  Positif\n",
      "freq                  2       98\n"
     ]
    }
   ],
   "source": [
    "# Cek jumlah data per kelas\n",
    "print(df['Sentimen'].value_counts())\n",
    "print('\\n')\n",
    "\n",
    "# Cek kelengkapan data\n",
    "print(df.info())\n",
    "print('\\n')\n",
    "\n",
    "# Cek statistik deskriptif\n",
    "print(df.describe())"
   ]
  },
  {
   "cell_type": "code",
   "execution_count": 30,
   "metadata": {},
   "outputs": [
    {
     "data": {
      "text/html": [
       "<div>\n",
       "<style scoped>\n",
       "    .dataframe tbody tr th:only-of-type {\n",
       "        vertical-align: middle;\n",
       "    }\n",
       "\n",
       "    .dataframe tbody tr th {\n",
       "        vertical-align: top;\n",
       "    }\n",
       "\n",
       "    .dataframe thead th {\n",
       "        text-align: right;\n",
       "    }\n",
       "</style>\n",
       "<table border=\"1\" class=\"dataframe\">\n",
       "  <thead>\n",
       "    <tr style=\"text-align: right;\">\n",
       "      <th></th>\n",
       "      <th>Review</th>\n",
       "      <th>Sentimen</th>\n",
       "    </tr>\n",
       "  </thead>\n",
       "  <tbody>\n",
       "    <tr>\n",
       "      <th>0</th>\n",
       "      <td>Kecewa banget. Saya pesan yang free pouch tapi...</td>\n",
       "      <td>0</td>\n",
       "    </tr>\n",
       "    <tr>\n",
       "      <th>1</th>\n",
       "      <td>Kali ini pengemasan tidak safe,, sepertinya tu...</td>\n",
       "      <td>0</td>\n",
       "    </tr>\n",
       "    <tr>\n",
       "      <th>2</th>\n",
       "      <td>paket datangnya barang sudah pecah dan sy retu...</td>\n",
       "      <td>0</td>\n",
       "    </tr>\n",
       "    <tr>\n",
       "      <th>3</th>\n",
       "      <td>ga ada sabun nya, ga sesuai deskripsi</td>\n",
       "      <td>0</td>\n",
       "    </tr>\n",
       "    <tr>\n",
       "      <th>4</th>\n",
       "      <td>ga sesuai harapan</td>\n",
       "      <td>0</td>\n",
       "    </tr>\n",
       "  </tbody>\n",
       "</table>\n",
       "</div>"
      ],
      "text/plain": [
       "                                              Review  Sentimen\n",
       "0  Kecewa banget. Saya pesan yang free pouch tapi...         0\n",
       "1  Kali ini pengemasan tidak safe,, sepertinya tu...         0\n",
       "2  paket datangnya barang sudah pecah dan sy retu...         0\n",
       "3              ga ada sabun nya, ga sesuai deskripsi         0\n",
       "4                                  ga sesuai harapan         0"
      ]
     },
     "execution_count": 30,
     "metadata": {},
     "output_type": "execute_result"
    }
   ],
   "source": [
    "# Data untuk label\n",
    "new_labels = {\n",
    "    'Negatif' : 0,\n",
    "    'Netral' : 1,\n",
    "    'Positif' : 2\n",
    "}\n",
    "\n",
    "# Encode label (mengubah label dari spam dan ham menjadi 1 dan 0)\n",
    "df['Sentimen'] = df['Sentimen'].map(new_labels)\n",
    "\n",
    "# Cek data teratas\n",
    "df.head()"
   ]
  },
  {
   "cell_type": "code",
   "execution_count": 31,
   "metadata": {},
   "outputs": [
    {
     "data": {
      "image/png": "[encoded data removed]",
      "text/plain": [
       "<Figure size 360x216 with 1 Axes>"
      ]
     },
     "metadata": {
      "needs_background": "light"
     },
     "output_type": "display_data"
    }
   ],
   "source": [
    "import seaborn as sns\n",
    "import matplotlib.pyplot as plt\n",
    "\n",
    "# visualisasi sentimen positif, netral, dan negatif\n",
    "plt.figure(figsize=(5, 3))\n",
    "sns.countplot(data=df, x='Sentimen', palette={0: 'red', 1: 'lightskyblue', 2: 'green'})\n",
    "plt.title('Visualisasi Sentimen Negatif, Netral, Positif')\n",
    "plt.xlabel('Sentimen')\n",
    "plt.ylabel('Jumlah')\n",
    "plt.show()"
   ]
  },
  {
   "cell_type": "code",
   "execution_count": 32,
   "metadata": {},
   "outputs": [],
   "source": [
    "# Memisahkan fitur dengan label\n",
    "X = df['Review'].values\n",
    "y = df['Sentimen'].values"
   ]
  },
  {
   "cell_type": "code",
   "execution_count": 33,
   "metadata": {},
   "outputs": [],
   "source": [
    "# Ekstraksi fitur\n",
    "from sklearn.model_selection import StratifiedKFold\n",
    "from sklearn.model_selection import train_test_split\n",
    "from sklearn.metrics import accuracy_score, precision_score, recall_score, f1_score\n",
    "from sklearn.feature_extraction.text import TfidfVectorizer\n",
    "from sklearn.naive_bayes import ComplementNB\n",
    "import numpy as np\n",
    "from sklearn.metrics import classification_report, confusion_matrix\n",
    "from imblearn.over_sampling import SMOTE\n",
    "\n",
    "# Split data training dan data testing\n",
    "X_train, X_test, y_train, y_test = train_test_split(X, y, test_size=0.3, random_state=42)\n",
    "\n",
    "# Inisialisasi model\n",
    "cnb = ComplementNB()\n",
    "\n",
    "# Inisialisasi TfidfVectorizer\n",
    "bow = TfidfVectorizer()\n",
    "\n",
    "# Transformasi seluruh data menggunakan TfidfVectorizer\n",
    "X_train_transform = bow.fit_transform(X_train)\n",
    "X_test_transform = bow.transform(X_test)\n",
    "\n",
    "# Melatih model klasifikasi pada data latih\n",
    "cnb.fit(X_train_transform, y_train)\n",
    "\n",
    "# Membuat prediksi pada data uji\n",
    "predictions_testing = cnb.predict(X_test_transform)\n",
    "\n",
    "# Membuat prediksi pada data training\n",
    "predictions_training = cnb.predict(X_train_transform)"
   ]
  },
  {
   "cell_type": "code",
   "execution_count": 34,
   "metadata": {},
   "outputs": [
    {
     "name": "stdout",
     "output_type": "stream",
     "text": [
      "------- AKURASI TRAINING -------\n",
      "Overall accuracy: 0.9206349206349206\n",
      "Overall precision: 0.9218678363877427\n",
      "Overall recall: 0.9206349206349206\n",
      "Overall F1-score: 0.9203463764560295\n",
      "Confusion Matrix : \n",
      " [[57  1  0]\n",
      " [ 1 56  9]\n",
      " [ 0  4 61]]\n",
      "-----------------------------------------------------\n",
      "\n",
      "              precision    recall  f1-score   support\n",
      "\n",
      "           0       0.98      0.98      0.98        58\n",
      "           1       0.92      0.85      0.88        66\n",
      "           2       0.87      0.94      0.90        65\n",
      "\n",
      "    accuracy                           0.92       189\n",
      "   macro avg       0.92      0.92      0.92       189\n",
      "weighted avg       0.92      0.92      0.92       189\n",
      "\n"
     ]
    }
   ],
   "source": [
    "# Hitung metrik evaluasi\n",
    "accuracy_training = accuracy_score(y_train, predictions_training)\n",
    "precision_training = precision_score(y_train, predictions_training, average='weighted')\n",
    "recall_training = recall_score(y_train, predictions_training, average='weighted')\n",
    "f1_training = f1_score(y_train, predictions_training, average='weighted')\n",
    "\n",
    "# Print hasil\n",
    "print(\"------- AKURASI TRAINING -------\")\n",
    "print(\"Overall accuracy:\", accuracy_training)\n",
    "print(\"Overall precision:\", precision_training)\n",
    "print(\"Overall recall:\", recall_training)\n",
    "print(\"Overall F1-score:\", f1_training)\n",
    "\n",
    "print(f'Confusion Matrix : \\n {confusion_matrix(y_train, predictions_training)}')\n",
    "print('-----------------------------------------------------\\n')\n",
    "print(classification_report(y_train, predictions_training, zero_division=0))\n"
   ]
  },
  {
   "cell_type": "code",
   "execution_count": 35,
   "metadata": {},
   "outputs": [
    {
     "name": "stdout",
     "output_type": "stream",
     "text": [
      "------- AKURASI TESTING -------\n",
      "Overall accuracy: 0.5432098765432098\n",
      "Overall precision: 0.5499338624338624\n",
      "Overall recall: 0.5432098765432098\n",
      "Overall F1-score: 0.5316917464660283\n",
      "Confusion Matrix : \n",
      " [[15  2  4]\n",
      " [ 7  9 11]\n",
      " [ 8  5 20]]\n",
      "-----------------------------------------------------\n",
      "\n",
      "              precision    recall  f1-score   support\n",
      "\n",
      "           0       0.50      0.71      0.59        21\n",
      "           1       0.56      0.33      0.42        27\n",
      "           2       0.57      0.61      0.59        33\n",
      "\n",
      "    accuracy                           0.54        81\n",
      "   macro avg       0.54      0.55      0.53        81\n",
      "weighted avg       0.55      0.54      0.53        81\n",
      "\n"
     ]
    }
   ],
   "source": [
    "# Hitung metrik evaluasi\n",
    "accuracy_testing = accuracy_score(y_test, predictions_testing)\n",
    "precision_testing = precision_score(y_test, predictions_testing, average='weighted')\n",
    "recall_testing = recall_score(y_test, predictions_testing, average='weighted')\n",
    "f1_testing = f1_score(y_test, predictions_testing, average='weighted')\n",
    "\n",
    "# Print hasil\n",
    "print(\"------- AKURASI TESTING -------\")\n",
    "print(\"Overall accuracy:\", accuracy_testing)\n",
    "print(\"Overall precision:\", precision_testing)\n",
    "print(\"Overall recall:\", recall_testing)\n",
    "print(\"Overall F1-score:\", f1_testing)\n",
    "\n",
    "print(f'Confusion Matrix : \\n {confusion_matrix(y_test, predictions_testing)}')\n",
    "print('-----------------------------------------------------\\n')\n",
    "print(classification_report(y_test, predictions_testing, zero_division=0))"
   ]
  },
  {
   "cell_type": "code",
   "execution_count": 36,
   "metadata": {},
   "outputs": [
    {
     "name": "stdout",
     "output_type": "stream",
     "text": [
      "Hasil Analisis Sentimen untuk Teks Baru :  positif\n"
     ]
    }
   ],
   "source": [
    "new_text = input(\"\\nMasukkan teks baru: \")\n",
    "new_text_vec = bow.transform([new_text])\n",
    "predicted_sentimen = cnb.predict(new_text_vec)\n",
    "\n",
    "if predicted_sentimen[0] == 0:\n",
    "    sentiment_label = \"negatif\"\n",
    "elif predicted_sentimen[0] == 1:\n",
    "    sentiment_label = \"netral\"\n",
    "elif predicted_sentimen[0] == 2:\n",
    "    sentiment_label = \"positif\"\n",
    "\n",
    "print(\"Hasil Analisis Sentimen untuk Teks Baru : \", sentiment_label)"
   ]
  }
 ],
 "metadata": {
  "kernelspec": {
   "display_name": "Python 3.9.7 64-bit",
   "language": "python",
   "name": "python3"
  },
  "language_info": {
   "codemirror_mode": {
    "name": "ipython",
    "version": 3
   },
   "file_extension": ".py",
   "mimetype": "text/x-python",
   "name": "python",
   "nbconvert_exporter": "python",
   "pygments_lexer": "ipython3",
   "version": "3.9.7"
  },
  "orig_nbformat": 4,
  "vscode": {
   "interpreter": {
    "hash": "d9013af9292987e25c8fc51c8964e87b073dcbf011589d8bc749c94f550b44c1"
   }
  }
 },
 "nbformat": 4,
 "nbformat_minor": 2
}
